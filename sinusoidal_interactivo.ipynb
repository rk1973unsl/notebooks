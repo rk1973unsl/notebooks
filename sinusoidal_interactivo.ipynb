{
  "nbformat": 4,
  "nbformat_minor": 0,
  "metadata": {
    "colab": {
      "name": "sinusoidal interactivo.ipynb",
      "provenance": [],
      "collapsed_sections": [],
      "authorship_tag": "ABX9TyPhvUWwvXlZYEOn52W7yBTc",
      "include_colab_link": true
    },
    "kernelspec": {
      "name": "python3",
      "display_name": "Python 3"
    },
    "widgets": {
      "application/vnd.jupyter.widget-state+json": {
        "4683e85da3cb483da166549756c51793": {
          "model_module": "@jupyter-widgets/controls",
          "model_name": "VBoxModel",
          "model_module_version": "1.5.0",
          "state": {
            "_view_name": "VBoxView",
            "_dom_classes": [
              "widget-interact"
            ],
            "_model_name": "VBoxModel",
            "_view_module": "@jupyter-widgets/controls",
            "_model_module_version": "1.5.0",
            "_view_count": null,
            "_view_module_version": "1.5.0",
            "box_style": "",
            "layout": "IPY_MODEL_17903712e8f14b20bb0e16ba48d99edb",
            "_model_module": "@jupyter-widgets/controls",
            "children": [
              "IPY_MODEL_7fe70179d46c4fc18236fc56b66591f3",
              "IPY_MODEL_b85f06e2cce44f4ea4623391a2c7fc10",
              "IPY_MODEL_6fab2b3fc4a842268f24c00592458182",
              "IPY_MODEL_707e17ef2bec4d8f9d7248773975bb9d",
              "IPY_MODEL_14b2bd818c4544a287eb6cec8225c024",
              "IPY_MODEL_26e95566265440a1bd6a64dff059eb13"
            ]
          }
        },
        "17903712e8f14b20bb0e16ba48d99edb": {
          "model_module": "@jupyter-widgets/base",
          "model_name": "LayoutModel",
          "model_module_version": "1.2.0",
          "state": {
            "_view_name": "LayoutView",
            "grid_template_rows": null,
            "right": null,
            "justify_content": null,
            "_view_module": "@jupyter-widgets/base",
            "overflow": null,
            "_model_module_version": "1.2.0",
            "_view_count": null,
            "flex_flow": null,
            "width": null,
            "min_width": null,
            "border": null,
            "align_items": null,
            "bottom": null,
            "_model_module": "@jupyter-widgets/base",
            "top": null,
            "grid_column": null,
            "overflow_y": null,
            "overflow_x": null,
            "grid_auto_flow": null,
            "grid_area": null,
            "grid_template_columns": null,
            "flex": null,
            "_model_name": "LayoutModel",
            "justify_items": null,
            "grid_row": null,
            "max_height": null,
            "align_content": null,
            "visibility": null,
            "align_self": null,
            "height": null,
            "min_height": null,
            "padding": null,
            "grid_auto_rows": null,
            "grid_gap": null,
            "max_width": null,
            "order": null,
            "_view_module_version": "1.2.0",
            "grid_template_areas": null,
            "object_position": null,
            "object_fit": null,
            "grid_auto_columns": null,
            "margin": null,
            "display": null,
            "left": null
          }
        },
        "7fe70179d46c4fc18236fc56b66591f3": {
          "model_module": "@jupyter-widgets/controls",
          "model_name": "IntSliderModel",
          "model_module_version": "1.5.0",
          "state": {
            "_view_name": "IntSliderView",
            "style": "IPY_MODEL_216ebcbd20574ebdbb4d09bbef822505",
            "_dom_classes": [],
            "description": "a",
            "step": 1,
            "_model_name": "IntSliderModel",
            "orientation": "horizontal",
            "max": 30,
            "_view_module": "@jupyter-widgets/controls",
            "_model_module_version": "1.5.0",
            "value": 10,
            "_view_count": null,
            "disabled": false,
            "_view_module_version": "1.5.0",
            "min": -10,
            "continuous_update": true,
            "readout_format": "d",
            "description_tooltip": null,
            "readout": true,
            "_model_module": "@jupyter-widgets/controls",
            "layout": "IPY_MODEL_b7103a2674434c8c83f57c675ab484a1"
          }
        },
        "b85f06e2cce44f4ea4623391a2c7fc10": {
          "model_module": "@jupyter-widgets/controls",
          "model_name": "IntSliderModel",
          "model_module_version": "1.5.0",
          "state": {
            "_view_name": "IntSliderView",
            "style": "IPY_MODEL_89cd112940c1487584a974e62b161448",
            "_dom_classes": [],
            "description": "f",
            "step": 1,
            "_model_name": "IntSliderModel",
            "orientation": "horizontal",
            "max": 1320,
            "_view_module": "@jupyter-widgets/controls",
            "_model_module_version": "1.5.0",
            "value": 440,
            "_view_count": null,
            "disabled": false,
            "_view_module_version": "1.5.0",
            "min": -440,
            "continuous_update": true,
            "readout_format": "d",
            "description_tooltip": null,
            "readout": true,
            "_model_module": "@jupyter-widgets/controls",
            "layout": "IPY_MODEL_dc5cf4500f3e4fd9b107663d12ce6df9"
          }
        },
        "6fab2b3fc4a842268f24c00592458182": {
          "model_module": "@jupyter-widgets/controls",
          "model_name": "FloatSliderModel",
          "model_module_version": "1.5.0",
          "state": {
            "_view_name": "FloatSliderView",
            "style": "IPY_MODEL_5a6511bc807540de904a69fab1db39fe",
            "_dom_classes": [],
            "description": "p",
            "step": 0.1,
            "_model_name": "FloatSliderModel",
            "orientation": "horizontal",
            "max": 1,
            "_view_module": "@jupyter-widgets/controls",
            "_model_module_version": "1.5.0",
            "value": 0,
            "_view_count": null,
            "disabled": false,
            "_view_module_version": "1.5.0",
            "min": 0,
            "continuous_update": true,
            "readout_format": ".2f",
            "description_tooltip": null,
            "readout": true,
            "_model_module": "@jupyter-widgets/controls",
            "layout": "IPY_MODEL_31a3af2c1f2d45009d8b23ce2ddae536"
          }
        },
        "707e17ef2bec4d8f9d7248773975bb9d": {
          "model_module": "@jupyter-widgets/controls",
          "model_name": "IntSliderModel",
          "model_module_version": "1.5.0",
          "state": {
            "_view_name": "IntSliderView",
            "style": "IPY_MODEL_3f1bedb5e7fa4651beb11ba2a7153c4e",
            "_dom_classes": [],
            "description": "tmax",
            "step": 1,
            "_model_name": "IntSliderModel",
            "orientation": "horizontal",
            "max": 15,
            "_view_module": "@jupyter-widgets/controls",
            "_model_module_version": "1.5.0",
            "value": 5,
            "_view_count": null,
            "disabled": false,
            "_view_module_version": "1.5.0",
            "min": -5,
            "continuous_update": true,
            "readout_format": "d",
            "description_tooltip": null,
            "readout": true,
            "_model_module": "@jupyter-widgets/controls",
            "layout": "IPY_MODEL_568fa8806e5a41c584d49a53ba4ea133"
          }
        },
        "14b2bd818c4544a287eb6cec8225c024": {
          "model_module": "@jupyter-widgets/controls",
          "model_name": "IntSliderModel",
          "model_module_version": "1.5.0",
          "state": {
            "_view_name": "IntSliderView",
            "style": "IPY_MODEL_b752230ab16b4745a6f8a0eb6b3948c8",
            "_dom_classes": [],
            "description": "fs",
            "step": 1,
            "_model_name": "IntSliderModel",
            "orientation": "horizontal",
            "max": 24000,
            "_view_module": "@jupyter-widgets/controls",
            "_model_module_version": "1.5.0",
            "value": 8000,
            "_view_count": null,
            "disabled": false,
            "_view_module_version": "1.5.0",
            "min": -8000,
            "continuous_update": true,
            "readout_format": "d",
            "description_tooltip": null,
            "readout": true,
            "_model_module": "@jupyter-widgets/controls",
            "layout": "IPY_MODEL_8e08ec2dd2594bd2a20142f6331be482"
          }
        },
        "26e95566265440a1bd6a64dff059eb13": {
          "model_module": "@jupyter-widgets/output",
          "model_name": "OutputModel",
          "model_module_version": "1.0.0",
          "state": {
            "_view_name": "OutputView",
            "msg_id": "",
            "_dom_classes": [],
            "_model_name": "OutputModel",
            "outputs": [
              {
                "output_type": "display_data",
                "data": {
                  "image/png": "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\n",
                  "text/plain": "<Figure size 432x288 with 1 Axes>"
                },
                "metadata": {
                  "needs_background": "light"
                }
              },
              {
                "output_type": "display_data",
                "data": {
                  "text/plain": "(array([ 0.        ,  3.3873792 ,  6.3742399 , ..., -8.60742027,\n        -6.3742399 , -3.3873792 ]),\n array([0.000000e+00, 1.250000e-04, 2.500000e-04, ..., 4.999625e+00,\n        4.999750e+00, 4.999875e+00]))"
                },
                "metadata": {}
              }
            ],
            "_view_module": "@jupyter-widgets/output",
            "_model_module_version": "1.0.0",
            "_view_count": null,
            "_view_module_version": "1.0.0",
            "layout": "IPY_MODEL_8648f273d81747d0972580c466227ff8",
            "_model_module": "@jupyter-widgets/output"
          }
        },
        "216ebcbd20574ebdbb4d09bbef822505": {
          "model_module": "@jupyter-widgets/controls",
          "model_name": "SliderStyleModel",
          "model_module_version": "1.5.0",
          "state": {
            "_view_name": "StyleView",
            "handle_color": null,
            "_model_name": "SliderStyleModel",
            "description_width": "",
            "_view_module": "@jupyter-widgets/base",
            "_model_module_version": "1.5.0",
            "_view_count": null,
            "_view_module_version": "1.2.0",
            "_model_module": "@jupyter-widgets/controls"
          }
        },
        "b7103a2674434c8c83f57c675ab484a1": {
          "model_module": "@jupyter-widgets/base",
          "model_name": "LayoutModel",
          "model_module_version": "1.2.0",
          "state": {
            "_view_name": "LayoutView",
            "grid_template_rows": null,
            "right": null,
            "justify_content": null,
            "_view_module": "@jupyter-widgets/base",
            "overflow": null,
            "_model_module_version": "1.2.0",
            "_view_count": null,
            "flex_flow": null,
            "width": null,
            "min_width": null,
            "border": null,
            "align_items": null,
            "bottom": null,
            "_model_module": "@jupyter-widgets/base",
            "top": null,
            "grid_column": null,
            "overflow_y": null,
            "overflow_x": null,
            "grid_auto_flow": null,
            "grid_area": null,
            "grid_template_columns": null,
            "flex": null,
            "_model_name": "LayoutModel",
            "justify_items": null,
            "grid_row": null,
            "max_height": null,
            "align_content": null,
            "visibility": null,
            "align_self": null,
            "height": null,
            "min_height": null,
            "padding": null,
            "grid_auto_rows": null,
            "grid_gap": null,
            "max_width": null,
            "order": null,
            "_view_module_version": "1.2.0",
            "grid_template_areas": null,
            "object_position": null,
            "object_fit": null,
            "grid_auto_columns": null,
            "margin": null,
            "display": null,
            "left": null
          }
        },
        "89cd112940c1487584a974e62b161448": {
          "model_module": "@jupyter-widgets/controls",
          "model_name": "SliderStyleModel",
          "model_module_version": "1.5.0",
          "state": {
            "_view_name": "StyleView",
            "handle_color": null,
            "_model_name": "SliderStyleModel",
            "description_width": "",
            "_view_module": "@jupyter-widgets/base",
            "_model_module_version": "1.5.0",
            "_view_count": null,
            "_view_module_version": "1.2.0",
            "_model_module": "@jupyter-widgets/controls"
          }
        },
        "dc5cf4500f3e4fd9b107663d12ce6df9": {
          "model_module": "@jupyter-widgets/base",
          "model_name": "LayoutModel",
          "model_module_version": "1.2.0",
          "state": {
            "_view_name": "LayoutView",
            "grid_template_rows": null,
            "right": null,
            "justify_content": null,
            "_view_module": "@jupyter-widgets/base",
            "overflow": null,
            "_model_module_version": "1.2.0",
            "_view_count": null,
            "flex_flow": null,
            "width": null,
            "min_width": null,
            "border": null,
            "align_items": null,
            "bottom": null,
            "_model_module": "@jupyter-widgets/base",
            "top": null,
            "grid_column": null,
            "overflow_y": null,
            "overflow_x": null,
            "grid_auto_flow": null,
            "grid_area": null,
            "grid_template_columns": null,
            "flex": null,
            "_model_name": "LayoutModel",
            "justify_items": null,
            "grid_row": null,
            "max_height": null,
            "align_content": null,
            "visibility": null,
            "align_self": null,
            "height": null,
            "min_height": null,
            "padding": null,
            "grid_auto_rows": null,
            "grid_gap": null,
            "max_width": null,
            "order": null,
            "_view_module_version": "1.2.0",
            "grid_template_areas": null,
            "object_position": null,
            "object_fit": null,
            "grid_auto_columns": null,
            "margin": null,
            "display": null,
            "left": null
          }
        },
        "5a6511bc807540de904a69fab1db39fe": {
          "model_module": "@jupyter-widgets/controls",
          "model_name": "SliderStyleModel",
          "model_module_version": "1.5.0",
          "state": {
            "_view_name": "StyleView",
            "handle_color": null,
            "_model_name": "SliderStyleModel",
            "description_width": "",
            "_view_module": "@jupyter-widgets/base",
            "_model_module_version": "1.5.0",
            "_view_count": null,
            "_view_module_version": "1.2.0",
            "_model_module": "@jupyter-widgets/controls"
          }
        },
        "31a3af2c1f2d45009d8b23ce2ddae536": {
          "model_module": "@jupyter-widgets/base",
          "model_name": "LayoutModel",
          "model_module_version": "1.2.0",
          "state": {
            "_view_name": "LayoutView",
            "grid_template_rows": null,
            "right": null,
            "justify_content": null,
            "_view_module": "@jupyter-widgets/base",
            "overflow": null,
            "_model_module_version": "1.2.0",
            "_view_count": null,
            "flex_flow": null,
            "width": null,
            "min_width": null,
            "border": null,
            "align_items": null,
            "bottom": null,
            "_model_module": "@jupyter-widgets/base",
            "top": null,
            "grid_column": null,
            "overflow_y": null,
            "overflow_x": null,
            "grid_auto_flow": null,
            "grid_area": null,
            "grid_template_columns": null,
            "flex": null,
            "_model_name": "LayoutModel",
            "justify_items": null,
            "grid_row": null,
            "max_height": null,
            "align_content": null,
            "visibility": null,
            "align_self": null,
            "height": null,
            "min_height": null,
            "padding": null,
            "grid_auto_rows": null,
            "grid_gap": null,
            "max_width": null,
            "order": null,
            "_view_module_version": "1.2.0",
            "grid_template_areas": null,
            "object_position": null,
            "object_fit": null,
            "grid_auto_columns": null,
            "margin": null,
            "display": null,
            "left": null
          }
        },
        "3f1bedb5e7fa4651beb11ba2a7153c4e": {
          "model_module": "@jupyter-widgets/controls",
          "model_name": "SliderStyleModel",
          "model_module_version": "1.5.0",
          "state": {
            "_view_name": "StyleView",
            "handle_color": null,
            "_model_name": "SliderStyleModel",
            "description_width": "",
            "_view_module": "@jupyter-widgets/base",
            "_model_module_version": "1.5.0",
            "_view_count": null,
            "_view_module_version": "1.2.0",
            "_model_module": "@jupyter-widgets/controls"
          }
        },
        "568fa8806e5a41c584d49a53ba4ea133": {
          "model_module": "@jupyter-widgets/base",
          "model_name": "LayoutModel",
          "model_module_version": "1.2.0",
          "state": {
            "_view_name": "LayoutView",
            "grid_template_rows": null,
            "right": null,
            "justify_content": null,
            "_view_module": "@jupyter-widgets/base",
            "overflow": null,
            "_model_module_version": "1.2.0",
            "_view_count": null,
            "flex_flow": null,
            "width": null,
            "min_width": null,
            "border": null,
            "align_items": null,
            "bottom": null,
            "_model_module": "@jupyter-widgets/base",
            "top": null,
            "grid_column": null,
            "overflow_y": null,
            "overflow_x": null,
            "grid_auto_flow": null,
            "grid_area": null,
            "grid_template_columns": null,
            "flex": null,
            "_model_name": "LayoutModel",
            "justify_items": null,
            "grid_row": null,
            "max_height": null,
            "align_content": null,
            "visibility": null,
            "align_self": null,
            "height": null,
            "min_height": null,
            "padding": null,
            "grid_auto_rows": null,
            "grid_gap": null,
            "max_width": null,
            "order": null,
            "_view_module_version": "1.2.0",
            "grid_template_areas": null,
            "object_position": null,
            "object_fit": null,
            "grid_auto_columns": null,
            "margin": null,
            "display": null,
            "left": null
          }
        },
        "b752230ab16b4745a6f8a0eb6b3948c8": {
          "model_module": "@jupyter-widgets/controls",
          "model_name": "SliderStyleModel",
          "model_module_version": "1.5.0",
          "state": {
            "_view_name": "StyleView",
            "handle_color": null,
            "_model_name": "SliderStyleModel",
            "description_width": "",
            "_view_module": "@jupyter-widgets/base",
            "_model_module_version": "1.5.0",
            "_view_count": null,
            "_view_module_version": "1.2.0",
            "_model_module": "@jupyter-widgets/controls"
          }
        },
        "8e08ec2dd2594bd2a20142f6331be482": {
          "model_module": "@jupyter-widgets/base",
          "model_name": "LayoutModel",
          "model_module_version": "1.2.0",
          "state": {
            "_view_name": "LayoutView",
            "grid_template_rows": null,
            "right": null,
            "justify_content": null,
            "_view_module": "@jupyter-widgets/base",
            "overflow": null,
            "_model_module_version": "1.2.0",
            "_view_count": null,
            "flex_flow": null,
            "width": null,
            "min_width": null,
            "border": null,
            "align_items": null,
            "bottom": null,
            "_model_module": "@jupyter-widgets/base",
            "top": null,
            "grid_column": null,
            "overflow_y": null,
            "overflow_x": null,
            "grid_auto_flow": null,
            "grid_area": null,
            "grid_template_columns": null,
            "flex": null,
            "_model_name": "LayoutModel",
            "justify_items": null,
            "grid_row": null,
            "max_height": null,
            "align_content": null,
            "visibility": null,
            "align_self": null,
            "height": null,
            "min_height": null,
            "padding": null,
            "grid_auto_rows": null,
            "grid_gap": null,
            "max_width": null,
            "order": null,
            "_view_module_version": "1.2.0",
            "grid_template_areas": null,
            "object_position": null,
            "object_fit": null,
            "grid_auto_columns": null,
            "margin": null,
            "display": null,
            "left": null
          }
        },
        "8648f273d81747d0972580c466227ff8": {
          "model_module": "@jupyter-widgets/base",
          "model_name": "LayoutModel",
          "model_module_version": "1.2.0",
          "state": {
            "_view_name": "LayoutView",
            "grid_template_rows": null,
            "right": null,
            "justify_content": null,
            "_view_module": "@jupyter-widgets/base",
            "overflow": null,
            "_model_module_version": "1.2.0",
            "_view_count": null,
            "flex_flow": null,
            "width": null,
            "min_width": null,
            "border": null,
            "align_items": null,
            "bottom": null,
            "_model_module": "@jupyter-widgets/base",
            "top": null,
            "grid_column": null,
            "overflow_y": null,
            "overflow_x": null,
            "grid_auto_flow": null,
            "grid_area": null,
            "grid_template_columns": null,
            "flex": null,
            "_model_name": "LayoutModel",
            "justify_items": null,
            "grid_row": null,
            "max_height": null,
            "align_content": null,
            "visibility": null,
            "align_self": null,
            "height": null,
            "min_height": null,
            "padding": null,
            "grid_auto_rows": null,
            "grid_gap": null,
            "max_width": null,
            "order": null,
            "_view_module_version": "1.2.0",
            "grid_template_areas": null,
            "object_position": null,
            "object_fit": null,
            "grid_auto_columns": null,
            "margin": null,
            "display": null,
            "left": null
          }
        },
        "a6d032049fc04f8081d9e7b33a22ef2c": {
          "model_module": "@jupyter-widgets/controls",
          "model_name": "VBoxModel",
          "model_module_version": "1.5.0",
          "state": {
            "_view_name": "VBoxView",
            "_dom_classes": [
              "widget-interact"
            ],
            "_model_name": "VBoxModel",
            "_view_module": "@jupyter-widgets/controls",
            "_model_module_version": "1.5.0",
            "_view_count": null,
            "_view_module_version": "1.5.0",
            "box_style": "",
            "layout": "IPY_MODEL_94e348265df54db7bc1a86ff50012a8d",
            "_model_module": "@jupyter-widgets/controls",
            "children": [
              "IPY_MODEL_2058a59f58554cd79bcf3321ea6dbe72",
              "IPY_MODEL_55ec1d4de6c04b2799cdbc5c61ae76de",
              "IPY_MODEL_1d46157029674e2e9ca67941a7741488",
              "IPY_MODEL_ce9f33da6ef54c15aeb2337bb7e5f4c7"
            ]
          }
        },
        "94e348265df54db7bc1a86ff50012a8d": {
          "model_module": "@jupyter-widgets/base",
          "model_name": "LayoutModel",
          "model_module_version": "1.2.0",
          "state": {
            "_view_name": "LayoutView",
            "grid_template_rows": null,
            "right": null,
            "justify_content": null,
            "_view_module": "@jupyter-widgets/base",
            "overflow": null,
            "_model_module_version": "1.2.0",
            "_view_count": null,
            "flex_flow": null,
            "width": null,
            "min_width": null,
            "border": null,
            "align_items": null,
            "bottom": null,
            "_model_module": "@jupyter-widgets/base",
            "top": null,
            "grid_column": null,
            "overflow_y": null,
            "overflow_x": null,
            "grid_auto_flow": null,
            "grid_area": null,
            "grid_template_columns": null,
            "flex": null,
            "_model_name": "LayoutModel",
            "justify_items": null,
            "grid_row": null,
            "max_height": null,
            "align_content": null,
            "visibility": null,
            "align_self": null,
            "height": null,
            "min_height": null,
            "padding": null,
            "grid_auto_rows": null,
            "grid_gap": null,
            "max_width": null,
            "order": null,
            "_view_module_version": "1.2.0",
            "grid_template_areas": null,
            "object_position": null,
            "object_fit": null,
            "grid_auto_columns": null,
            "margin": null,
            "display": null,
            "left": null
          }
        },
        "2058a59f58554cd79bcf3321ea6dbe72": {
          "model_module": "@jupyter-widgets/controls",
          "model_name": "CheckboxModel",
          "model_module_version": "1.5.0",
          "state": {
            "_view_name": "CheckboxView",
            "style": "IPY_MODEL_3a1d999588fe40ae8c15117825ac29a7",
            "_dom_classes": [],
            "description": "x",
            "_model_name": "CheckboxModel",
            "_view_module": "@jupyter-widgets/controls",
            "_model_module_version": "1.5.0",
            "value": true,
            "_view_count": null,
            "disabled": false,
            "_view_module_version": "1.5.0",
            "indent": true,
            "description_tooltip": null,
            "_model_module": "@jupyter-widgets/controls",
            "layout": "IPY_MODEL_1b22da1be8fa4292adadf6efcfaa93b6"
          }
        },
        "55ec1d4de6c04b2799cdbc5c61ae76de": {
          "model_module": "@jupyter-widgets/controls",
          "model_name": "FloatSliderModel",
          "model_module_version": "1.5.0",
          "state": {
            "_view_name": "FloatSliderView",
            "style": "IPY_MODEL_6fdbcb992f044f009c131969913b8209",
            "_dom_classes": [],
            "description": "y",
            "step": 0.1,
            "_model_name": "FloatSliderModel",
            "orientation": "horizontal",
            "max": 3,
            "_view_module": "@jupyter-widgets/controls",
            "_model_module_version": "1.5.0",
            "value": 1,
            "_view_count": null,
            "disabled": false,
            "_view_module_version": "1.5.0",
            "min": -1,
            "continuous_update": true,
            "readout_format": ".2f",
            "description_tooltip": null,
            "readout": true,
            "_model_module": "@jupyter-widgets/controls",
            "layout": "IPY_MODEL_0976091d35c44553a3ae3ad478087ce3"
          }
        },
        "1d46157029674e2e9ca67941a7741488": {
          "model_module": "@jupyter-widgets/controls",
          "model_name": "TextModel",
          "model_module_version": "1.5.0",
          "state": {
            "_view_name": "TextView",
            "style": "IPY_MODEL_54762a37cc1a43aeabe4758c350069a7",
            "_dom_classes": [],
            "description": "z",
            "_model_name": "TextModel",
            "placeholder": "​",
            "_view_module": "@jupyter-widgets/controls",
            "_model_module_version": "1.5.0",
            "value": "pepe",
            "_view_count": null,
            "disabled": false,
            "_view_module_version": "1.5.0",
            "continuous_update": true,
            "description_tooltip": null,
            "_model_module": "@jupyter-widgets/controls",
            "layout": "IPY_MODEL_2d1110a8a1ac42b4b70a7a1c8dabb5bf"
          }
        },
        "ce9f33da6ef54c15aeb2337bb7e5f4c7": {
          "model_module": "@jupyter-widgets/output",
          "model_name": "OutputModel",
          "model_module_version": "1.0.0",
          "state": {
            "_view_name": "OutputView",
            "msg_id": "",
            "_dom_classes": [],
            "_model_name": "OutputModel",
            "outputs": [
              {
                "output_type": "display_data",
                "data": {
                  "text/plain": "(True, 1.0, 'pepe')"
                },
                "metadata": {}
              }
            ],
            "_view_module": "@jupyter-widgets/output",
            "_model_module_version": "1.0.0",
            "_view_count": null,
            "_view_module_version": "1.0.0",
            "layout": "IPY_MODEL_0b9d1ee51cec49d7a92ed4e8117a5d7d",
            "_model_module": "@jupyter-widgets/output"
          }
        },
        "3a1d999588fe40ae8c15117825ac29a7": {
          "model_module": "@jupyter-widgets/controls",
          "model_name": "DescriptionStyleModel",
          "model_module_version": "1.5.0",
          "state": {
            "_view_name": "StyleView",
            "_model_name": "DescriptionStyleModel",
            "description_width": "",
            "_view_module": "@jupyter-widgets/base",
            "_model_module_version": "1.5.0",
            "_view_count": null,
            "_view_module_version": "1.2.0",
            "_model_module": "@jupyter-widgets/controls"
          }
        },
        "1b22da1be8fa4292adadf6efcfaa93b6": {
          "model_module": "@jupyter-widgets/base",
          "model_name": "LayoutModel",
          "model_module_version": "1.2.0",
          "state": {
            "_view_name": "LayoutView",
            "grid_template_rows": null,
            "right": null,
            "justify_content": null,
            "_view_module": "@jupyter-widgets/base",
            "overflow": null,
            "_model_module_version": "1.2.0",
            "_view_count": null,
            "flex_flow": null,
            "width": null,
            "min_width": null,
            "border": null,
            "align_items": null,
            "bottom": null,
            "_model_module": "@jupyter-widgets/base",
            "top": null,
            "grid_column": null,
            "overflow_y": null,
            "overflow_x": null,
            "grid_auto_flow": null,
            "grid_area": null,
            "grid_template_columns": null,
            "flex": null,
            "_model_name": "LayoutModel",
            "justify_items": null,
            "grid_row": null,
            "max_height": null,
            "align_content": null,
            "visibility": null,
            "align_self": null,
            "height": null,
            "min_height": null,
            "padding": null,
            "grid_auto_rows": null,
            "grid_gap": null,
            "max_width": null,
            "order": null,
            "_view_module_version": "1.2.0",
            "grid_template_areas": null,
            "object_position": null,
            "object_fit": null,
            "grid_auto_columns": null,
            "margin": null,
            "display": null,
            "left": null
          }
        },
        "6fdbcb992f044f009c131969913b8209": {
          "model_module": "@jupyter-widgets/controls",
          "model_name": "SliderStyleModel",
          "model_module_version": "1.5.0",
          "state": {
            "_view_name": "StyleView",
            "handle_color": null,
            "_model_name": "SliderStyleModel",
            "description_width": "",
            "_view_module": "@jupyter-widgets/base",
            "_model_module_version": "1.5.0",
            "_view_count": null,
            "_view_module_version": "1.2.0",
            "_model_module": "@jupyter-widgets/controls"
          }
        },
        "0976091d35c44553a3ae3ad478087ce3": {
          "model_module": "@jupyter-widgets/base",
          "model_name": "LayoutModel",
          "model_module_version": "1.2.0",
          "state": {
            "_view_name": "LayoutView",
            "grid_template_rows": null,
            "right": null,
            "justify_content": null,
            "_view_module": "@jupyter-widgets/base",
            "overflow": null,
            "_model_module_version": "1.2.0",
            "_view_count": null,
            "flex_flow": null,
            "width": null,
            "min_width": null,
            "border": null,
            "align_items": null,
            "bottom": null,
            "_model_module": "@jupyter-widgets/base",
            "top": null,
            "grid_column": null,
            "overflow_y": null,
            "overflow_x": null,
            "grid_auto_flow": null,
            "grid_area": null,
            "grid_template_columns": null,
            "flex": null,
            "_model_name": "LayoutModel",
            "justify_items": null,
            "grid_row": null,
            "max_height": null,
            "align_content": null,
            "visibility": null,
            "align_self": null,
            "height": null,
            "min_height": null,
            "padding": null,
            "grid_auto_rows": null,
            "grid_gap": null,
            "max_width": null,
            "order": null,
            "_view_module_version": "1.2.0",
            "grid_template_areas": null,
            "object_position": null,
            "object_fit": null,
            "grid_auto_columns": null,
            "margin": null,
            "display": null,
            "left": null
          }
        },
        "54762a37cc1a43aeabe4758c350069a7": {
          "model_module": "@jupyter-widgets/controls",
          "model_name": "DescriptionStyleModel",
          "model_module_version": "1.5.0",
          "state": {
            "_view_name": "StyleView",
            "_model_name": "DescriptionStyleModel",
            "description_width": "",
            "_view_module": "@jupyter-widgets/base",
            "_model_module_version": "1.5.0",
            "_view_count": null,
            "_view_module_version": "1.2.0",
            "_model_module": "@jupyter-widgets/controls"
          }
        },
        "2d1110a8a1ac42b4b70a7a1c8dabb5bf": {
          "model_module": "@jupyter-widgets/base",
          "model_name": "LayoutModel",
          "model_module_version": "1.2.0",
          "state": {
            "_view_name": "LayoutView",
            "grid_template_rows": null,
            "right": null,
            "justify_content": null,
            "_view_module": "@jupyter-widgets/base",
            "overflow": null,
            "_model_module_version": "1.2.0",
            "_view_count": null,
            "flex_flow": null,
            "width": null,
            "min_width": null,
            "border": null,
            "align_items": null,
            "bottom": null,
            "_model_module": "@jupyter-widgets/base",
            "top": null,
            "grid_column": null,
            "overflow_y": null,
            "overflow_x": null,
            "grid_auto_flow": null,
            "grid_area": null,
            "grid_template_columns": null,
            "flex": null,
            "_model_name": "LayoutModel",
            "justify_items": null,
            "grid_row": null,
            "max_height": null,
            "align_content": null,
            "visibility": null,
            "align_self": null,
            "height": null,
            "min_height": null,
            "padding": null,
            "grid_auto_rows": null,
            "grid_gap": null,
            "max_width": null,
            "order": null,
            "_view_module_version": "1.2.0",
            "grid_template_areas": null,
            "object_position": null,
            "object_fit": null,
            "grid_auto_columns": null,
            "margin": null,
            "display": null,
            "left": null
          }
        },
        "0b9d1ee51cec49d7a92ed4e8117a5d7d": {
          "model_module": "@jupyter-widgets/base",
          "model_name": "LayoutModel",
          "model_module_version": "1.2.0",
          "state": {
            "_view_name": "LayoutView",
            "grid_template_rows": null,
            "right": null,
            "justify_content": null,
            "_view_module": "@jupyter-widgets/base",
            "overflow": null,
            "_model_module_version": "1.2.0",
            "_view_count": null,
            "flex_flow": null,
            "width": null,
            "min_width": null,
            "border": null,
            "align_items": null,
            "bottom": null,
            "_model_module": "@jupyter-widgets/base",
            "top": null,
            "grid_column": null,
            "overflow_y": null,
            "overflow_x": null,
            "grid_auto_flow": null,
            "grid_area": null,
            "grid_template_columns": null,
            "flex": null,
            "_model_name": "LayoutModel",
            "justify_items": null,
            "grid_row": null,
            "max_height": null,
            "align_content": null,
            "visibility": null,
            "align_self": null,
            "height": null,
            "min_height": null,
            "padding": null,
            "grid_auto_rows": null,
            "grid_gap": null,
            "max_width": null,
            "order": null,
            "_view_module_version": "1.2.0",
            "grid_template_areas": null,
            "object_position": null,
            "object_fit": null,
            "grid_auto_columns": null,
            "margin": null,
            "display": null,
            "left": null
          }
        },
        "a0250c35f2144b0d9457c4302d0eddc7": {
          "model_module": "@jupyter-widgets/controls",
          "model_name": "VBoxModel",
          "model_module_version": "1.5.0",
          "state": {
            "_view_name": "VBoxView",
            "_dom_classes": [
              "widget-interact"
            ],
            "_model_name": "VBoxModel",
            "_view_module": "@jupyter-widgets/controls",
            "_model_module_version": "1.5.0",
            "_view_count": null,
            "_view_module_version": "1.5.0",
            "box_style": "",
            "layout": "IPY_MODEL_4a3d04a23c3342e1829004ee24e6add9",
            "_model_module": "@jupyter-widgets/controls",
            "children": [
              "IPY_MODEL_27dd4a71e248401f9246ffcff6a783bb",
              "IPY_MODEL_d4300c91c4c94d94a8bca047b3981f89",
              "IPY_MODEL_156349d7016d4ecfa297827335917285",
              "IPY_MODEL_c34a64e3cd2c4712ad6aa04bf06e9a76"
            ]
          }
        },
        "4a3d04a23c3342e1829004ee24e6add9": {
          "model_module": "@jupyter-widgets/base",
          "model_name": "LayoutModel",
          "model_module_version": "1.2.0",
          "state": {
            "_view_name": "LayoutView",
            "grid_template_rows": null,
            "right": null,
            "justify_content": null,
            "_view_module": "@jupyter-widgets/base",
            "overflow": null,
            "_model_module_version": "1.2.0",
            "_view_count": null,
            "flex_flow": null,
            "width": null,
            "min_width": null,
            "border": null,
            "align_items": null,
            "bottom": null,
            "_model_module": "@jupyter-widgets/base",
            "top": null,
            "grid_column": null,
            "overflow_y": null,
            "overflow_x": null,
            "grid_auto_flow": null,
            "grid_area": null,
            "grid_template_columns": null,
            "flex": null,
            "_model_name": "LayoutModel",
            "justify_items": null,
            "grid_row": null,
            "max_height": null,
            "align_content": null,
            "visibility": null,
            "align_self": null,
            "height": null,
            "min_height": null,
            "padding": null,
            "grid_auto_rows": null,
            "grid_gap": null,
            "max_width": null,
            "order": null,
            "_view_module_version": "1.2.0",
            "grid_template_areas": null,
            "object_position": null,
            "object_fit": null,
            "grid_auto_columns": null,
            "margin": null,
            "display": null,
            "left": null
          }
        },
        "27dd4a71e248401f9246ffcff6a783bb": {
          "model_module": "@jupyter-widgets/controls",
          "model_name": "IntSliderModel",
          "model_module_version": "1.5.0",
          "state": {
            "_view_name": "IntSliderView",
            "style": "IPY_MODEL_5a192650dee6490e9c7bde56fb7d154c",
            "_dom_classes": [],
            "description": "a",
            "step": 1,
            "_model_name": "IntSliderModel",
            "orientation": "horizontal",
            "max": 30,
            "_view_module": "@jupyter-widgets/controls",
            "_model_module_version": "1.5.0",
            "value": 10,
            "_view_count": null,
            "disabled": false,
            "_view_module_version": "1.5.0",
            "min": -10,
            "continuous_update": true,
            "readout_format": "d",
            "description_tooltip": null,
            "readout": true,
            "_model_module": "@jupyter-widgets/controls",
            "layout": "IPY_MODEL_3dfcb093fcff417dbbded75b9fa4fe8d"
          }
        },
        "d4300c91c4c94d94a8bca047b3981f89": {
          "model_module": "@jupyter-widgets/controls",
          "model_name": "IntSliderModel",
          "model_module_version": "1.5.0",
          "state": {
            "_view_name": "IntSliderView",
            "style": "IPY_MODEL_44c4c388062c47fb97aa3ff694eb101f",
            "_dom_classes": [],
            "description": "tmax",
            "step": 1,
            "_model_name": "IntSliderModel",
            "orientation": "horizontal",
            "max": 15,
            "_view_module": "@jupyter-widgets/controls",
            "_model_module_version": "1.5.0",
            "value": 5,
            "_view_count": null,
            "disabled": false,
            "_view_module_version": "1.5.0",
            "min": -5,
            "continuous_update": true,
            "readout_format": "d",
            "description_tooltip": null,
            "readout": true,
            "_model_module": "@jupyter-widgets/controls",
            "layout": "IPY_MODEL_151ccec0942b4f92b77bc211e0f27978"
          }
        },
        "156349d7016d4ecfa297827335917285": {
          "model_module": "@jupyter-widgets/controls",
          "model_name": "IntSliderModel",
          "model_module_version": "1.5.0",
          "state": {
            "_view_name": "IntSliderView",
            "style": "IPY_MODEL_d93838fb57e544b882523a44fb6d86d4",
            "_dom_classes": [],
            "description": "fs",
            "step": 1,
            "_model_name": "IntSliderModel",
            "orientation": "horizontal",
            "max": 24000,
            "_view_module": "@jupyter-widgets/controls",
            "_model_module_version": "1.5.0",
            "value": 8000,
            "_view_count": null,
            "disabled": false,
            "_view_module_version": "1.5.0",
            "min": -8000,
            "continuous_update": true,
            "readout_format": "d",
            "description_tooltip": null,
            "readout": true,
            "_model_module": "@jupyter-widgets/controls",
            "layout": "IPY_MODEL_cc968092a5bf4d3cb3b7a0cca33f1405"
          }
        },
        "c34a64e3cd2c4712ad6aa04bf06e9a76": {
          "model_module": "@jupyter-widgets/output",
          "model_name": "OutputModel",
          "model_module_version": "1.0.0",
          "state": {
            "_view_name": "OutputView",
            "msg_id": "",
            "_dom_classes": [],
            "_model_name": "OutputModel",
            "outputs": [
              {
                "output_type": "display_data",
                "data": {
                  "image/png": "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\n",
                  "text/plain": "<Figure size 432x288 with 1 Axes>"
                },
                "metadata": {
                  "needs_background": "light"
                }
              },
              {
                "output_type": "display_data",
                "data": {
                  "text/plain": "(array([ 0.        ,  3.3873792 ,  6.3742399 , ..., -8.60742027,\n        -6.3742399 , -3.3873792 ]),\n array([0.000000e+00, 1.250000e-04, 2.500000e-04, ..., 4.999625e+00,\n        4.999750e+00, 4.999875e+00]))"
                },
                "metadata": {}
              }
            ],
            "_view_module": "@jupyter-widgets/output",
            "_model_module_version": "1.0.0",
            "_view_count": null,
            "_view_module_version": "1.0.0",
            "layout": "IPY_MODEL_115de837784942cb98884b40a6972f67",
            "_model_module": "@jupyter-widgets/output"
          }
        },
        "5a192650dee6490e9c7bde56fb7d154c": {
          "model_module": "@jupyter-widgets/controls",
          "model_name": "SliderStyleModel",
          "model_module_version": "1.5.0",
          "state": {
            "_view_name": "StyleView",
            "handle_color": null,
            "_model_name": "SliderStyleModel",
            "description_width": "",
            "_view_module": "@jupyter-widgets/base",
            "_model_module_version": "1.5.0",
            "_view_count": null,
            "_view_module_version": "1.2.0",
            "_model_module": "@jupyter-widgets/controls"
          }
        },
        "3dfcb093fcff417dbbded75b9fa4fe8d": {
          "model_module": "@jupyter-widgets/base",
          "model_name": "LayoutModel",
          "model_module_version": "1.2.0",
          "state": {
            "_view_name": "LayoutView",
            "grid_template_rows": null,
            "right": null,
            "justify_content": null,
            "_view_module": "@jupyter-widgets/base",
            "overflow": null,
            "_model_module_version": "1.2.0",
            "_view_count": null,
            "flex_flow": null,
            "width": null,
            "min_width": null,
            "border": null,
            "align_items": null,
            "bottom": null,
            "_model_module": "@jupyter-widgets/base",
            "top": null,
            "grid_column": null,
            "overflow_y": null,
            "overflow_x": null,
            "grid_auto_flow": null,
            "grid_area": null,
            "grid_template_columns": null,
            "flex": null,
            "_model_name": "LayoutModel",
            "justify_items": null,
            "grid_row": null,
            "max_height": null,
            "align_content": null,
            "visibility": null,
            "align_self": null,
            "height": null,
            "min_height": null,
            "padding": null,
            "grid_auto_rows": null,
            "grid_gap": null,
            "max_width": null,
            "order": null,
            "_view_module_version": "1.2.0",
            "grid_template_areas": null,
            "object_position": null,
            "object_fit": null,
            "grid_auto_columns": null,
            "margin": null,
            "display": null,
            "left": null
          }
        },
        "44c4c388062c47fb97aa3ff694eb101f": {
          "model_module": "@jupyter-widgets/controls",
          "model_name": "SliderStyleModel",
          "model_module_version": "1.5.0",
          "state": {
            "_view_name": "StyleView",
            "handle_color": null,
            "_model_name": "SliderStyleModel",
            "description_width": "",
            "_view_module": "@jupyter-widgets/base",
            "_model_module_version": "1.5.0",
            "_view_count": null,
            "_view_module_version": "1.2.0",
            "_model_module": "@jupyter-widgets/controls"
          }
        },
        "151ccec0942b4f92b77bc211e0f27978": {
          "model_module": "@jupyter-widgets/base",
          "model_name": "LayoutModel",
          "model_module_version": "1.2.0",
          "state": {
            "_view_name": "LayoutView",
            "grid_template_rows": null,
            "right": null,
            "justify_content": null,
            "_view_module": "@jupyter-widgets/base",
            "overflow": null,
            "_model_module_version": "1.2.0",
            "_view_count": null,
            "flex_flow": null,
            "width": null,
            "min_width": null,
            "border": null,
            "align_items": null,
            "bottom": null,
            "_model_module": "@jupyter-widgets/base",
            "top": null,
            "grid_column": null,
            "overflow_y": null,
            "overflow_x": null,
            "grid_auto_flow": null,
            "grid_area": null,
            "grid_template_columns": null,
            "flex": null,
            "_model_name": "LayoutModel",
            "justify_items": null,
            "grid_row": null,
            "max_height": null,
            "align_content": null,
            "visibility": null,
            "align_self": null,
            "height": null,
            "min_height": null,
            "padding": null,
            "grid_auto_rows": null,
            "grid_gap": null,
            "max_width": null,
            "order": null,
            "_view_module_version": "1.2.0",
            "grid_template_areas": null,
            "object_position": null,
            "object_fit": null,
            "grid_auto_columns": null,
            "margin": null,
            "display": null,
            "left": null
          }
        },
        "d93838fb57e544b882523a44fb6d86d4": {
          "model_module": "@jupyter-widgets/controls",
          "model_name": "SliderStyleModel",
          "model_module_version": "1.5.0",
          "state": {
            "_view_name": "StyleView",
            "handle_color": null,
            "_model_name": "SliderStyleModel",
            "description_width": "",
            "_view_module": "@jupyter-widgets/base",
            "_model_module_version": "1.5.0",
            "_view_count": null,
            "_view_module_version": "1.2.0",
            "_model_module": "@jupyter-widgets/controls"
          }
        },
        "cc968092a5bf4d3cb3b7a0cca33f1405": {
          "model_module": "@jupyter-widgets/base",
          "model_name": "LayoutModel",
          "model_module_version": "1.2.0",
          "state": {
            "_view_name": "LayoutView",
            "grid_template_rows": null,
            "right": null,
            "justify_content": null,
            "_view_module": "@jupyter-widgets/base",
            "overflow": null,
            "_model_module_version": "1.2.0",
            "_view_count": null,
            "flex_flow": null,
            "width": null,
            "min_width": null,
            "border": null,
            "align_items": null,
            "bottom": null,
            "_model_module": "@jupyter-widgets/base",
            "top": null,
            "grid_column": null,
            "overflow_y": null,
            "overflow_x": null,
            "grid_auto_flow": null,
            "grid_area": null,
            "grid_template_columns": null,
            "flex": null,
            "_model_name": "LayoutModel",
            "justify_items": null,
            "grid_row": null,
            "max_height": null,
            "align_content": null,
            "visibility": null,
            "align_self": null,
            "height": null,
            "min_height": null,
            "padding": null,
            "grid_auto_rows": null,
            "grid_gap": null,
            "max_width": null,
            "order": null,
            "_view_module_version": "1.2.0",
            "grid_template_areas": null,
            "object_position": null,
            "object_fit": null,
            "grid_auto_columns": null,
            "margin": null,
            "display": null,
            "left": null
          }
        },
        "115de837784942cb98884b40a6972f67": {
          "model_module": "@jupyter-widgets/base",
          "model_name": "LayoutModel",
          "model_module_version": "1.2.0",
          "state": {
            "_view_name": "LayoutView",
            "grid_template_rows": null,
            "right": null,
            "justify_content": null,
            "_view_module": "@jupyter-widgets/base",
            "overflow": null,
            "_model_module_version": "1.2.0",
            "_view_count": null,
            "flex_flow": null,
            "width": null,
            "min_width": null,
            "border": null,
            "align_items": null,
            "bottom": null,
            "_model_module": "@jupyter-widgets/base",
            "top": null,
            "grid_column": null,
            "overflow_y": null,
            "overflow_x": null,
            "grid_auto_flow": null,
            "grid_area": null,
            "grid_template_columns": null,
            "flex": null,
            "_model_name": "LayoutModel",
            "justify_items": null,
            "grid_row": null,
            "max_height": null,
            "align_content": null,
            "visibility": null,
            "align_self": null,
            "height": null,
            "min_height": null,
            "padding": null,
            "grid_auto_rows": null,
            "grid_gap": null,
            "max_width": null,
            "order": null,
            "_view_module_version": "1.2.0",
            "grid_template_areas": null,
            "object_position": null,
            "object_fit": null,
            "grid_auto_columns": null,
            "margin": null,
            "display": null,
            "left": null
          }
        },
        "ca0f6338d2f640168f0000045cbe31f9": {
          "model_module": "@jupyter-widgets/controls",
          "model_name": "VBoxModel",
          "model_module_version": "1.5.0",
          "state": {
            "_view_name": "VBoxView",
            "_dom_classes": [
              "widget-interact"
            ],
            "_model_name": "VBoxModel",
            "_view_module": "@jupyter-widgets/controls",
            "_model_module_version": "1.5.0",
            "_view_count": null,
            "_view_module_version": "1.5.0",
            "box_style": "",
            "layout": "IPY_MODEL_d7bc9c62914c4564be50095e60cd71a0",
            "_model_module": "@jupyter-widgets/controls",
            "children": [
              "IPY_MODEL_21d702817ea149479d9003c18c2ee3dd",
              "IPY_MODEL_f378dcd989054b93b7d124ab0f426e58",
              "IPY_MODEL_32b6a8ce3220436c8e7460915b8ff9a6",
              "IPY_MODEL_cf4fd2311e6d4c28ba334658d39113d3"
            ]
          }
        },
        "d7bc9c62914c4564be50095e60cd71a0": {
          "model_module": "@jupyter-widgets/base",
          "model_name": "LayoutModel",
          "model_module_version": "1.2.0",
          "state": {
            "_view_name": "LayoutView",
            "grid_template_rows": null,
            "right": null,
            "justify_content": null,
            "_view_module": "@jupyter-widgets/base",
            "overflow": null,
            "_model_module_version": "1.2.0",
            "_view_count": null,
            "flex_flow": null,
            "width": null,
            "min_width": null,
            "border": null,
            "align_items": null,
            "bottom": null,
            "_model_module": "@jupyter-widgets/base",
            "top": null,
            "grid_column": null,
            "overflow_y": null,
            "overflow_x": null,
            "grid_auto_flow": null,
            "grid_area": null,
            "grid_template_columns": null,
            "flex": null,
            "_model_name": "LayoutModel",
            "justify_items": null,
            "grid_row": null,
            "max_height": null,
            "align_content": null,
            "visibility": null,
            "align_self": null,
            "height": null,
            "min_height": null,
            "padding": null,
            "grid_auto_rows": null,
            "grid_gap": null,
            "max_width": null,
            "order": null,
            "_view_module_version": "1.2.0",
            "grid_template_areas": null,
            "object_position": null,
            "object_fit": null,
            "grid_auto_columns": null,
            "margin": null,
            "display": null,
            "left": null
          }
        },
        "21d702817ea149479d9003c18c2ee3dd": {
          "model_module": "@jupyter-widgets/controls",
          "model_name": "FloatSliderModel",
          "model_module_version": "1.5.0",
          "state": {
            "_view_name": "FloatSliderView",
            "style": "IPY_MODEL_a5c13fcd61a74af084bd54ad0608e97d",
            "_dom_classes": [],
            "description": "a",
            "step": 0.1,
            "_model_name": "FloatSliderModel",
            "orientation": "horizontal",
            "max": 2,
            "_view_module": "@jupyter-widgets/controls",
            "_model_module_version": "1.5.0",
            "value": 1,
            "_view_count": null,
            "disabled": false,
            "_view_module_version": "1.5.0",
            "min": 0,
            "continuous_update": true,
            "readout_format": ".2f",
            "description_tooltip": null,
            "readout": true,
            "_model_module": "@jupyter-widgets/controls",
            "layout": "IPY_MODEL_741a007bf69f438ba1b276e89946fbcd"
          }
        },
        "f378dcd989054b93b7d124ab0f426e58": {
          "model_module": "@jupyter-widgets/controls",
          "model_name": "IntSliderModel",
          "model_module_version": "1.5.0",
          "state": {
            "_view_name": "IntSliderView",
            "style": "IPY_MODEL_7d1a752fa5334aadbd18a4719ec427e3",
            "_dom_classes": [],
            "description": "f",
            "step": 100,
            "_model_name": "IntSliderModel",
            "orientation": "horizontal",
            "max": 2000,
            "_view_module": "@jupyter-widgets/controls",
            "_model_module_version": "1.5.0",
            "value": 1000,
            "_view_count": null,
            "disabled": false,
            "_view_module_version": "1.5.0",
            "min": 100,
            "continuous_update": true,
            "readout_format": "d",
            "description_tooltip": null,
            "readout": true,
            "_model_module": "@jupyter-widgets/controls",
            "layout": "IPY_MODEL_80560d7213c741bea14971ca7b096383"
          }
        },
        "32b6a8ce3220436c8e7460915b8ff9a6": {
          "model_module": "@jupyter-widgets/controls",
          "model_name": "IntSliderModel",
          "model_module_version": "1.5.0",
          "state": {
            "_view_name": "IntSliderView",
            "style": "IPY_MODEL_1b9db8d6d1a14b86bb86ee9562bdedc7",
            "_dom_classes": [],
            "description": "fs",
            "step": 1,
            "_model_name": "IntSliderModel",
            "orientation": "horizontal",
            "max": 24000,
            "_view_module": "@jupyter-widgets/controls",
            "_model_module_version": "1.5.0",
            "value": 8000,
            "_view_count": null,
            "disabled": false,
            "_view_module_version": "1.5.0",
            "min": -8000,
            "continuous_update": true,
            "readout_format": "d",
            "description_tooltip": null,
            "readout": true,
            "_model_module": "@jupyter-widgets/controls",
            "layout": "IPY_MODEL_22111a15f14c477ebcf7026f0b5e94a0"
          }
        },
        "cf4fd2311e6d4c28ba334658d39113d3": {
          "model_module": "@jupyter-widgets/output",
          "model_name": "OutputModel",
          "model_module_version": "1.0.0",
          "state": {
            "_view_name": "OutputView",
            "msg_id": "",
            "_dom_classes": [],
            "_model_name": "OutputModel",
            "outputs": [
              {
                "output_type": "display_data",
                "data": {
                  "image/png": "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\n",
                  "text/plain": "<Figure size 432x288 with 1 Axes>"
                },
                "metadata": {
                  "needs_background": "light"
                }
              },
              {
                "output_type": "display_data",
                "data": {
                  "text/plain": "(array([ 0.00000000e+00,  7.07106781e-01,  1.00000000e+00,  7.07106781e-01,\n         1.22464680e-16, -7.07106781e-01, -1.00000000e+00, -7.07106781e-01,\n        -2.44929360e-16,  7.07106781e-01,  1.00000000e+00,  7.07106781e-01,\n         3.67394040e-16, -7.07106781e-01, -1.00000000e+00, -7.07106781e-01,\n        -4.89858720e-16,  7.07106781e-01,  1.00000000e+00,  7.07106781e-01,\n         6.12323400e-16, -7.07106781e-01, -1.00000000e+00, -7.07106781e-01,\n        -7.34788079e-16,  7.07106781e-01,  1.00000000e+00,  7.07106781e-01,\n         8.57252759e-16, -7.07106781e-01, -1.00000000e+00, -7.07106781e-01,\n        -9.79717439e-16,  7.07106781e-01,  1.00000000e+00,  7.07106781e-01,\n         1.10218212e-15, -7.07106781e-01, -1.00000000e+00, -7.07106781e-01,\n        -1.22464680e-15,  7.07106781e-01,  1.00000000e+00,  7.07106781e-01,\n         4.89982516e-15, -7.07106781e-01, -1.00000000e+00, -7.07106781e-01,\n        -1.46957616e-15,  7.07106781e-01,  1.00000000e+00,  7.07106781e-01,\n        -1.96067284e-15, -7.07106781e-01, -1.00000000e+00, -7.07106781e-01,\n        -1.71450552e-15,  7.07106781e-01,  1.00000000e+00,  7.07106781e-01,\n         5.38968388e-15, -7.07106781e-01, -1.00000000e+00, -7.07106781e-01,\n        -1.95943488e-15,  7.07106781e-01,  1.00000000e+00,  7.07106781e-01,\n        -1.47081412e-15, -7.07106781e-01, -1.00000000e+00, -7.07106781e-01,\n        -2.20436424e-15,  7.07106781e-01,  1.00000000e+00,  7.07106781e-01,\n         5.87954260e-15, -7.07106781e-01, -1.00000000e+00, -7.07106781e-01]),\n array([0.      , 0.000125, 0.00025 , 0.000375, 0.0005  , 0.000625,\n        0.00075 , 0.000875, 0.001   , 0.001125, 0.00125 , 0.001375,\n        0.0015  , 0.001625, 0.00175 , 0.001875, 0.002   , 0.002125,\n        0.00225 , 0.002375, 0.0025  , 0.002625, 0.00275 , 0.002875,\n        0.003   , 0.003125, 0.00325 , 0.003375, 0.0035  , 0.003625,\n        0.00375 , 0.003875, 0.004   , 0.004125, 0.00425 , 0.004375,\n        0.0045  , 0.004625, 0.00475 , 0.004875, 0.005   , 0.005125,\n        0.00525 , 0.005375, 0.0055  , 0.005625, 0.00575 , 0.005875,\n        0.006   , 0.006125, 0.00625 , 0.006375, 0.0065  , 0.006625,\n        0.00675 , 0.006875, 0.007   , 0.007125, 0.00725 , 0.007375,\n        0.0075  , 0.007625, 0.00775 , 0.007875, 0.008   , 0.008125,\n        0.00825 , 0.008375, 0.0085  , 0.008625, 0.00875 , 0.008875,\n        0.009   , 0.009125, 0.00925 , 0.009375, 0.0095  , 0.009625,\n        0.00975 , 0.009875]))"
                },
                "metadata": {}
              }
            ],
            "_view_module": "@jupyter-widgets/output",
            "_model_module_version": "1.0.0",
            "_view_count": null,
            "_view_module_version": "1.0.0",
            "layout": "IPY_MODEL_d64583cfda9f4defa0005ce0a7ffcefd",
            "_model_module": "@jupyter-widgets/output"
          }
        },
        "a5c13fcd61a74af084bd54ad0608e97d": {
          "model_module": "@jupyter-widgets/controls",
          "model_name": "SliderStyleModel",
          "model_module_version": "1.5.0",
          "state": {
            "_view_name": "StyleView",
            "handle_color": null,
            "_model_name": "SliderStyleModel",
            "description_width": "",
            "_view_module": "@jupyter-widgets/base",
            "_model_module_version": "1.5.0",
            "_view_count": null,
            "_view_module_version": "1.2.0",
            "_model_module": "@jupyter-widgets/controls"
          }
        },
        "741a007bf69f438ba1b276e89946fbcd": {
          "model_module": "@jupyter-widgets/base",
          "model_name": "LayoutModel",
          "model_module_version": "1.2.0",
          "state": {
            "_view_name": "LayoutView",
            "grid_template_rows": null,
            "right": null,
            "justify_content": null,
            "_view_module": "@jupyter-widgets/base",
            "overflow": null,
            "_model_module_version": "1.2.0",
            "_view_count": null,
            "flex_flow": null,
            "width": null,
            "min_width": null,
            "border": null,
            "align_items": null,
            "bottom": null,
            "_model_module": "@jupyter-widgets/base",
            "top": null,
            "grid_column": null,
            "overflow_y": null,
            "overflow_x": null,
            "grid_auto_flow": null,
            "grid_area": null,
            "grid_template_columns": null,
            "flex": null,
            "_model_name": "LayoutModel",
            "justify_items": null,
            "grid_row": null,
            "max_height": null,
            "align_content": null,
            "visibility": null,
            "align_self": null,
            "height": null,
            "min_height": null,
            "padding": null,
            "grid_auto_rows": null,
            "grid_gap": null,
            "max_width": null,
            "order": null,
            "_view_module_version": "1.2.0",
            "grid_template_areas": null,
            "object_position": null,
            "object_fit": null,
            "grid_auto_columns": null,
            "margin": null,
            "display": null,
            "left": null
          }
        },
        "7d1a752fa5334aadbd18a4719ec427e3": {
          "model_module": "@jupyter-widgets/controls",
          "model_name": "SliderStyleModel",
          "model_module_version": "1.5.0",
          "state": {
            "_view_name": "StyleView",
            "handle_color": null,
            "_model_name": "SliderStyleModel",
            "description_width": "",
            "_view_module": "@jupyter-widgets/base",
            "_model_module_version": "1.5.0",
            "_view_count": null,
            "_view_module_version": "1.2.0",
            "_model_module": "@jupyter-widgets/controls"
          }
        },
        "80560d7213c741bea14971ca7b096383": {
          "model_module": "@jupyter-widgets/base",
          "model_name": "LayoutModel",
          "model_module_version": "1.2.0",
          "state": {
            "_view_name": "LayoutView",
            "grid_template_rows": null,
            "right": null,
            "justify_content": null,
            "_view_module": "@jupyter-widgets/base",
            "overflow": null,
            "_model_module_version": "1.2.0",
            "_view_count": null,
            "flex_flow": null,
            "width": null,
            "min_width": null,
            "border": null,
            "align_items": null,
            "bottom": null,
            "_model_module": "@jupyter-widgets/base",
            "top": null,
            "grid_column": null,
            "overflow_y": null,
            "overflow_x": null,
            "grid_auto_flow": null,
            "grid_area": null,
            "grid_template_columns": null,
            "flex": null,
            "_model_name": "LayoutModel",
            "justify_items": null,
            "grid_row": null,
            "max_height": null,
            "align_content": null,
            "visibility": null,
            "align_self": null,
            "height": null,
            "min_height": null,
            "padding": null,
            "grid_auto_rows": null,
            "grid_gap": null,
            "max_width": null,
            "order": null,
            "_view_module_version": "1.2.0",
            "grid_template_areas": null,
            "object_position": null,
            "object_fit": null,
            "grid_auto_columns": null,
            "margin": null,
            "display": null,
            "left": null
          }
        },
        "1b9db8d6d1a14b86bb86ee9562bdedc7": {
          "model_module": "@jupyter-widgets/controls",
          "model_name": "SliderStyleModel",
          "model_module_version": "1.5.0",
          "state": {
            "_view_name": "StyleView",
            "handle_color": null,
            "_model_name": "SliderStyleModel",
            "description_width": "",
            "_view_module": "@jupyter-widgets/base",
            "_model_module_version": "1.5.0",
            "_view_count": null,
            "_view_module_version": "1.2.0",
            "_model_module": "@jupyter-widgets/controls"
          }
        },
        "22111a15f14c477ebcf7026f0b5e94a0": {
          "model_module": "@jupyter-widgets/base",
          "model_name": "LayoutModel",
          "model_module_version": "1.2.0",
          "state": {
            "_view_name": "LayoutView",
            "grid_template_rows": null,
            "right": null,
            "justify_content": null,
            "_view_module": "@jupyter-widgets/base",
            "overflow": null,
            "_model_module_version": "1.2.0",
            "_view_count": null,
            "flex_flow": null,
            "width": null,
            "min_width": null,
            "border": null,
            "align_items": null,
            "bottom": null,
            "_model_module": "@jupyter-widgets/base",
            "top": null,
            "grid_column": null,
            "overflow_y": null,
            "overflow_x": null,
            "grid_auto_flow": null,
            "grid_area": null,
            "grid_template_columns": null,
            "flex": null,
            "_model_name": "LayoutModel",
            "justify_items": null,
            "grid_row": null,
            "max_height": null,
            "align_content": null,
            "visibility": null,
            "align_self": null,
            "height": null,
            "min_height": null,
            "padding": null,
            "grid_auto_rows": null,
            "grid_gap": null,
            "max_width": null,
            "order": null,
            "_view_module_version": "1.2.0",
            "grid_template_areas": null,
            "object_position": null,
            "object_fit": null,
            "grid_auto_columns": null,
            "margin": null,
            "display": null,
            "left": null
          }
        },
        "d64583cfda9f4defa0005ce0a7ffcefd": {
          "model_module": "@jupyter-widgets/base",
          "model_name": "LayoutModel",
          "model_module_version": "1.2.0",
          "state": {
            "_view_name": "LayoutView",
            "grid_template_rows": null,
            "right": null,
            "justify_content": null,
            "_view_module": "@jupyter-widgets/base",
            "overflow": null,
            "_model_module_version": "1.2.0",
            "_view_count": null,
            "flex_flow": null,
            "width": null,
            "min_width": null,
            "border": null,
            "align_items": null,
            "bottom": null,
            "_model_module": "@jupyter-widgets/base",
            "top": null,
            "grid_column": null,
            "overflow_y": null,
            "overflow_x": null,
            "grid_auto_flow": null,
            "grid_area": null,
            "grid_template_columns": null,
            "flex": null,
            "_model_name": "LayoutModel",
            "justify_items": null,
            "grid_row": null,
            "max_height": null,
            "align_content": null,
            "visibility": null,
            "align_self": null,
            "height": null,
            "min_height": null,
            "padding": null,
            "grid_auto_rows": null,
            "grid_gap": null,
            "max_width": null,
            "order": null,
            "_view_module_version": "1.2.0",
            "grid_template_areas": null,
            "object_position": null,
            "object_fit": null,
            "grid_auto_columns": null,
            "margin": null,
            "display": null,
            "left": null
          }
        },
        "2298842751b64398a5d7de5b37ec5a8e": {
          "model_module": "@jupyter-widgets/controls",
          "model_name": "VBoxModel",
          "model_module_version": "1.5.0",
          "state": {
            "_view_name": "VBoxView",
            "_dom_classes": [
              "widget-interact"
            ],
            "_model_name": "VBoxModel",
            "_view_module": "@jupyter-widgets/controls",
            "_model_module_version": "1.5.0",
            "_view_count": null,
            "_view_module_version": "1.5.0",
            "box_style": "",
            "layout": "IPY_MODEL_5b933ecedc4c456c8ded47c31ed5d771",
            "_model_module": "@jupyter-widgets/controls",
            "children": [
              "IPY_MODEL_f695fb54d4ec4a079e0b4784d2de5679",
              "IPY_MODEL_77b669944b394dc391baf6c1fd70e4af"
            ]
          }
        },
        "5b933ecedc4c456c8ded47c31ed5d771": {
          "model_module": "@jupyter-widgets/base",
          "model_name": "LayoutModel",
          "model_module_version": "1.2.0",
          "state": {
            "_view_name": "LayoutView",
            "grid_template_rows": null,
            "right": null,
            "justify_content": null,
            "_view_module": "@jupyter-widgets/base",
            "overflow": null,
            "_model_module_version": "1.2.0",
            "_view_count": null,
            "flex_flow": null,
            "width": null,
            "min_width": null,
            "border": null,
            "align_items": null,
            "bottom": null,
            "_model_module": "@jupyter-widgets/base",
            "top": null,
            "grid_column": null,
            "overflow_y": null,
            "overflow_x": null,
            "grid_auto_flow": null,
            "grid_area": null,
            "grid_template_columns": null,
            "flex": null,
            "_model_name": "LayoutModel",
            "justify_items": null,
            "grid_row": null,
            "max_height": null,
            "align_content": null,
            "visibility": null,
            "align_self": null,
            "height": null,
            "min_height": null,
            "padding": null,
            "grid_auto_rows": null,
            "grid_gap": null,
            "max_width": null,
            "order": null,
            "_view_module_version": "1.2.0",
            "grid_template_areas": null,
            "object_position": null,
            "object_fit": null,
            "grid_auto_columns": null,
            "margin": null,
            "display": null,
            "left": null
          }
        },
        "f695fb54d4ec4a079e0b4784d2de5679": {
          "model_module": "@jupyter-widgets/controls",
          "model_name": "FloatSliderModel",
          "model_module_version": "1.5.0",
          "state": {
            "_view_name": "FloatSliderView",
            "style": "IPY_MODEL_d2c8f0097c1a49a2820d750a37a64bfb",
            "_dom_classes": [],
            "description": "i",
            "step": 100000,
            "_model_name": "FloatSliderModel",
            "orientation": "horizontal",
            "max": 10000000,
            "_view_module": "@jupyter-widgets/controls",
            "_model_module_version": "1.5.0",
            "value": 100000,
            "_view_count": null,
            "disabled": false,
            "_view_module_version": "1.5.0",
            "min": 100000,
            "continuous_update": true,
            "readout_format": ".2f",
            "description_tooltip": null,
            "readout": true,
            "_model_module": "@jupyter-widgets/controls",
            "layout": "IPY_MODEL_5c531782b58843b6aa092f941ef43c3a"
          }
        },
        "77b669944b394dc391baf6c1fd70e4af": {
          "model_module": "@jupyter-widgets/output",
          "model_name": "OutputModel",
          "model_module_version": "1.0.0",
          "state": {
            "_view_name": "OutputView",
            "msg_id": "",
            "_dom_classes": [],
            "_model_name": "OutputModel",
            "outputs": [
              {
                "output_type": "stream",
                "name": "stdout",
                "text": [
                  "100000 [0, 1, 2, 3, 11, 22, 101, 111, 121, 202, 212, 1001, 1111, 2002, 10001, 10101, 10201, 11011, 11111, 11211, 20002, 20102]\n"
                ]
              }
            ],
            "_view_module": "@jupyter-widgets/output",
            "_model_module_version": "1.0.0",
            "_view_count": null,
            "_view_module_version": "1.0.0",
            "layout": "IPY_MODEL_c20c5cca6c3c488d806abcff68a89ec9",
            "_model_module": "@jupyter-widgets/output"
          }
        },
        "d2c8f0097c1a49a2820d750a37a64bfb": {
          "model_module": "@jupyter-widgets/controls",
          "model_name": "SliderStyleModel",
          "model_module_version": "1.5.0",
          "state": {
            "_view_name": "StyleView",
            "handle_color": null,
            "_model_name": "SliderStyleModel",
            "description_width": "",
            "_view_module": "@jupyter-widgets/base",
            "_model_module_version": "1.5.0",
            "_view_count": null,
            "_view_module_version": "1.2.0",
            "_model_module": "@jupyter-widgets/controls"
          }
        },
        "5c531782b58843b6aa092f941ef43c3a": {
          "model_module": "@jupyter-widgets/base",
          "model_name": "LayoutModel",
          "model_module_version": "1.2.0",
          "state": {
            "_view_name": "LayoutView",
            "grid_template_rows": null,
            "right": null,
            "justify_content": null,
            "_view_module": "@jupyter-widgets/base",
            "overflow": null,
            "_model_module_version": "1.2.0",
            "_view_count": null,
            "flex_flow": null,
            "width": null,
            "min_width": null,
            "border": null,
            "align_items": null,
            "bottom": null,
            "_model_module": "@jupyter-widgets/base",
            "top": null,
            "grid_column": null,
            "overflow_y": null,
            "overflow_x": null,
            "grid_auto_flow": null,
            "grid_area": null,
            "grid_template_columns": null,
            "flex": null,
            "_model_name": "LayoutModel",
            "justify_items": null,
            "grid_row": null,
            "max_height": null,
            "align_content": null,
            "visibility": null,
            "align_self": null,
            "height": null,
            "min_height": null,
            "padding": null,
            "grid_auto_rows": null,
            "grid_gap": null,
            "max_width": null,
            "order": null,
            "_view_module_version": "1.2.0",
            "grid_template_areas": null,
            "object_position": null,
            "object_fit": null,
            "grid_auto_columns": null,
            "margin": null,
            "display": null,
            "left": null
          }
        },
        "c20c5cca6c3c488d806abcff68a89ec9": {
          "model_module": "@jupyter-widgets/base",
          "model_name": "LayoutModel",
          "model_module_version": "1.2.0",
          "state": {
            "_view_name": "LayoutView",
            "grid_template_rows": null,
            "right": null,
            "justify_content": null,
            "_view_module": "@jupyter-widgets/base",
            "overflow": null,
            "_model_module_version": "1.2.0",
            "_view_count": null,
            "flex_flow": null,
            "width": null,
            "min_width": null,
            "border": null,
            "align_items": null,
            "bottom": null,
            "_model_module": "@jupyter-widgets/base",
            "top": null,
            "grid_column": null,
            "overflow_y": null,
            "overflow_x": null,
            "grid_auto_flow": null,
            "grid_area": null,
            "grid_template_columns": null,
            "flex": null,
            "_model_name": "LayoutModel",
            "justify_items": null,
            "grid_row": null,
            "max_height": null,
            "align_content": null,
            "visibility": null,
            "align_self": null,
            "height": null,
            "min_height": null,
            "padding": null,
            "grid_auto_rows": null,
            "grid_gap": null,
            "max_width": null,
            "order": null,
            "_view_module_version": "1.2.0",
            "grid_template_areas": null,
            "object_position": null,
            "object_fit": null,
            "grid_auto_columns": null,
            "margin": null,
            "display": null,
            "left": null
          }
        },
        "7ee55e18cfa0451680d00b70543fb3ad": {
          "model_module": "@jupyter-widgets/controls",
          "model_name": "VBoxModel",
          "model_module_version": "1.5.0",
          "state": {
            "_view_name": "VBoxView",
            "_dom_classes": [
              "widget-interact"
            ],
            "_model_name": "VBoxModel",
            "_view_module": "@jupyter-widgets/controls",
            "_model_module_version": "1.5.0",
            "_view_count": null,
            "_view_module_version": "1.5.0",
            "box_style": "",
            "layout": "IPY_MODEL_443609b769304eee9f1284cf27306cb0",
            "_model_module": "@jupyter-widgets/controls",
            "children": [
              "IPY_MODEL_f7a3e90f20b64950b41db83f17af5a69",
              "IPY_MODEL_74ed4dbc3e5f45548b655db994fc87eb",
              "IPY_MODEL_9150d9460f174bdab24e155b58d7cfb6",
              "IPY_MODEL_d7dc7cf1c2f0438c9243199607f5abb1",
              "IPY_MODEL_af3213443d114898849124e2b9b78869"
            ]
          }
        },
        "443609b769304eee9f1284cf27306cb0": {
          "model_module": "@jupyter-widgets/base",
          "model_name": "LayoutModel",
          "model_module_version": "1.2.0",
          "state": {
            "_view_name": "LayoutView",
            "grid_template_rows": null,
            "right": null,
            "justify_content": null,
            "_view_module": "@jupyter-widgets/base",
            "overflow": null,
            "_model_module_version": "1.2.0",
            "_view_count": null,
            "flex_flow": null,
            "width": null,
            "min_width": null,
            "border": null,
            "align_items": null,
            "bottom": null,
            "_model_module": "@jupyter-widgets/base",
            "top": null,
            "grid_column": null,
            "overflow_y": null,
            "overflow_x": null,
            "grid_auto_flow": null,
            "grid_area": null,
            "grid_template_columns": null,
            "flex": null,
            "_model_name": "LayoutModel",
            "justify_items": null,
            "grid_row": null,
            "max_height": null,
            "align_content": null,
            "visibility": null,
            "align_self": null,
            "height": null,
            "min_height": null,
            "padding": null,
            "grid_auto_rows": null,
            "grid_gap": null,
            "max_width": null,
            "order": null,
            "_view_module_version": "1.2.0",
            "grid_template_areas": null,
            "object_position": null,
            "object_fit": null,
            "grid_auto_columns": null,
            "margin": null,
            "display": null,
            "left": null
          }
        },
        "f7a3e90f20b64950b41db83f17af5a69": {
          "model_module": "@jupyter-widgets/controls",
          "model_name": "FloatSliderModel",
          "model_module_version": "1.5.0",
          "state": {
            "_view_name": "FloatSliderView",
            "style": "IPY_MODEL_dfccc9541b564351aec5097c0e4ec261",
            "_dom_classes": [],
            "description": "a",
            "step": 0.1,
            "_model_name": "FloatSliderModel",
            "orientation": "horizontal",
            "max": 2,
            "_view_module": "@jupyter-widgets/controls",
            "_model_module_version": "1.5.0",
            "value": 1,
            "_view_count": null,
            "disabled": false,
            "_view_module_version": "1.5.0",
            "min": 0,
            "continuous_update": true,
            "readout_format": ".2f",
            "description_tooltip": null,
            "readout": true,
            "_model_module": "@jupyter-widgets/controls",
            "layout": "IPY_MODEL_b2181358d2374abf8063d4923a3a82f1"
          }
        },
        "74ed4dbc3e5f45548b655db994fc87eb": {
          "model_module": "@jupyter-widgets/controls",
          "model_name": "IntSliderModel",
          "model_module_version": "1.5.0",
          "state": {
            "_view_name": "IntSliderView",
            "style": "IPY_MODEL_b7f20d246b83439eb823c80f28913bfe",
            "_dom_classes": [],
            "description": "f",
            "step": 100,
            "_model_name": "IntSliderModel",
            "orientation": "horizontal",
            "max": 2000,
            "_view_module": "@jupyter-widgets/controls",
            "_model_module_version": "1.5.0",
            "value": 1000,
            "_view_count": null,
            "disabled": false,
            "_view_module_version": "1.5.0",
            "min": 100,
            "continuous_update": true,
            "readout_format": "d",
            "description_tooltip": null,
            "readout": true,
            "_model_module": "@jupyter-widgets/controls",
            "layout": "IPY_MODEL_afbc3b1e239944ec8f6bb02770099a95"
          }
        },
        "9150d9460f174bdab24e155b58d7cfb6": {
          "model_module": "@jupyter-widgets/controls",
          "model_name": "IntSliderModel",
          "model_module_version": "1.5.0",
          "state": {
            "_view_name": "IntSliderView",
            "style": "IPY_MODEL_ac3ae5d39b8a4a92a0c8cb56258cebf6",
            "_dom_classes": [],
            "description": "fs",
            "step": 1,
            "_model_name": "IntSliderModel",
            "orientation": "horizontal",
            "max": 24000,
            "_view_module": "@jupyter-widgets/controls",
            "_model_module_version": "1.5.0",
            "value": 8000,
            "_view_count": null,
            "disabled": false,
            "_view_module_version": "1.5.0",
            "min": -8000,
            "continuous_update": true,
            "readout_format": "d",
            "description_tooltip": null,
            "readout": true,
            "_model_module": "@jupyter-widgets/controls",
            "layout": "IPY_MODEL_c68ec1da0fec491ba9475479743ac738"
          }
        },
        "d7dc7cf1c2f0438c9243199607f5abb1": {
          "model_module": "@jupyter-widgets/controls",
          "model_name": "ButtonModel",
          "model_module_version": "1.5.0",
          "state": {
            "_view_name": "ButtonView",
            "style": "IPY_MODEL_ef9282212fa54c37a9e978ace6195962",
            "_dom_classes": [],
            "description": "Run Interact",
            "_model_name": "ButtonModel",
            "button_style": "",
            "_view_module": "@jupyter-widgets/controls",
            "_model_module_version": "1.5.0",
            "tooltip": "",
            "_view_count": null,
            "disabled": false,
            "_view_module_version": "1.5.0",
            "layout": "IPY_MODEL_ce88b49e73924dd19e7fafee5a6a29aa",
            "_model_module": "@jupyter-widgets/controls",
            "icon": ""
          }
        },
        "af3213443d114898849124e2b9b78869": {
          "model_module": "@jupyter-widgets/output",
          "model_name": "OutputModel",
          "model_module_version": "1.0.0",
          "state": {
            "_view_name": "OutputView",
            "msg_id": "",
            "_dom_classes": [],
            "_model_name": "OutputModel",
            "outputs": [],
            "_view_module": "@jupyter-widgets/output",
            "_model_module_version": "1.0.0",
            "_view_count": null,
            "_view_module_version": "1.0.0",
            "layout": "IPY_MODEL_583d004f84344afcada6e194dbaaf026",
            "_model_module": "@jupyter-widgets/output"
          }
        },
        "dfccc9541b564351aec5097c0e4ec261": {
          "model_module": "@jupyter-widgets/controls",
          "model_name": "SliderStyleModel",
          "model_module_version": "1.5.0",
          "state": {
            "_view_name": "StyleView",
            "handle_color": null,
            "_model_name": "SliderStyleModel",
            "description_width": "",
            "_view_module": "@jupyter-widgets/base",
            "_model_module_version": "1.5.0",
            "_view_count": null,
            "_view_module_version": "1.2.0",
            "_model_module": "@jupyter-widgets/controls"
          }
        },
        "b2181358d2374abf8063d4923a3a82f1": {
          "model_module": "@jupyter-widgets/base",
          "model_name": "LayoutModel",
          "model_module_version": "1.2.0",
          "state": {
            "_view_name": "LayoutView",
            "grid_template_rows": null,
            "right": null,
            "justify_content": null,
            "_view_module": "@jupyter-widgets/base",
            "overflow": null,
            "_model_module_version": "1.2.0",
            "_view_count": null,
            "flex_flow": null,
            "width": null,
            "min_width": null,
            "border": null,
            "align_items": null,
            "bottom": null,
            "_model_module": "@jupyter-widgets/base",
            "top": null,
            "grid_column": null,
            "overflow_y": null,
            "overflow_x": null,
            "grid_auto_flow": null,
            "grid_area": null,
            "grid_template_columns": null,
            "flex": null,
            "_model_name": "LayoutModel",
            "justify_items": null,
            "grid_row": null,
            "max_height": null,
            "align_content": null,
            "visibility": null,
            "align_self": null,
            "height": null,
            "min_height": null,
            "padding": null,
            "grid_auto_rows": null,
            "grid_gap": null,
            "max_width": null,
            "order": null,
            "_view_module_version": "1.2.0",
            "grid_template_areas": null,
            "object_position": null,
            "object_fit": null,
            "grid_auto_columns": null,
            "margin": null,
            "display": null,
            "left": null
          }
        },
        "b7f20d246b83439eb823c80f28913bfe": {
          "model_module": "@jupyter-widgets/controls",
          "model_name": "SliderStyleModel",
          "model_module_version": "1.5.0",
          "state": {
            "_view_name": "StyleView",
            "handle_color": null,
            "_model_name": "SliderStyleModel",
            "description_width": "",
            "_view_module": "@jupyter-widgets/base",
            "_model_module_version": "1.5.0",
            "_view_count": null,
            "_view_module_version": "1.2.0",
            "_model_module": "@jupyter-widgets/controls"
          }
        },
        "afbc3b1e239944ec8f6bb02770099a95": {
          "model_module": "@jupyter-widgets/base",
          "model_name": "LayoutModel",
          "model_module_version": "1.2.0",
          "state": {
            "_view_name": "LayoutView",
            "grid_template_rows": null,
            "right": null,
            "justify_content": null,
            "_view_module": "@jupyter-widgets/base",
            "overflow": null,
            "_model_module_version": "1.2.0",
            "_view_count": null,
            "flex_flow": null,
            "width": null,
            "min_width": null,
            "border": null,
            "align_items": null,
            "bottom": null,
            "_model_module": "@jupyter-widgets/base",
            "top": null,
            "grid_column": null,
            "overflow_y": null,
            "overflow_x": null,
            "grid_auto_flow": null,
            "grid_area": null,
            "grid_template_columns": null,
            "flex": null,
            "_model_name": "LayoutModel",
            "justify_items": null,
            "grid_row": null,
            "max_height": null,
            "align_content": null,
            "visibility": null,
            "align_self": null,
            "height": null,
            "min_height": null,
            "padding": null,
            "grid_auto_rows": null,
            "grid_gap": null,
            "max_width": null,
            "order": null,
            "_view_module_version": "1.2.0",
            "grid_template_areas": null,
            "object_position": null,
            "object_fit": null,
            "grid_auto_columns": null,
            "margin": null,
            "display": null,
            "left": null
          }
        },
        "ac3ae5d39b8a4a92a0c8cb56258cebf6": {
          "model_module": "@jupyter-widgets/controls",
          "model_name": "SliderStyleModel",
          "model_module_version": "1.5.0",
          "state": {
            "_view_name": "StyleView",
            "handle_color": null,
            "_model_name": "SliderStyleModel",
            "description_width": "",
            "_view_module": "@jupyter-widgets/base",
            "_model_module_version": "1.5.0",
            "_view_count": null,
            "_view_module_version": "1.2.0",
            "_model_module": "@jupyter-widgets/controls"
          }
        },
        "c68ec1da0fec491ba9475479743ac738": {
          "model_module": "@jupyter-widgets/base",
          "model_name": "LayoutModel",
          "model_module_version": "1.2.0",
          "state": {
            "_view_name": "LayoutView",
            "grid_template_rows": null,
            "right": null,
            "justify_content": null,
            "_view_module": "@jupyter-widgets/base",
            "overflow": null,
            "_model_module_version": "1.2.0",
            "_view_count": null,
            "flex_flow": null,
            "width": null,
            "min_width": null,
            "border": null,
            "align_items": null,
            "bottom": null,
            "_model_module": "@jupyter-widgets/base",
            "top": null,
            "grid_column": null,
            "overflow_y": null,
            "overflow_x": null,
            "grid_auto_flow": null,
            "grid_area": null,
            "grid_template_columns": null,
            "flex": null,
            "_model_name": "LayoutModel",
            "justify_items": null,
            "grid_row": null,
            "max_height": null,
            "align_content": null,
            "visibility": null,
            "align_self": null,
            "height": null,
            "min_height": null,
            "padding": null,
            "grid_auto_rows": null,
            "grid_gap": null,
            "max_width": null,
            "order": null,
            "_view_module_version": "1.2.0",
            "grid_template_areas": null,
            "object_position": null,
            "object_fit": null,
            "grid_auto_columns": null,
            "margin": null,
            "display": null,
            "left": null
          }
        },
        "ef9282212fa54c37a9e978ace6195962": {
          "model_module": "@jupyter-widgets/controls",
          "model_name": "ButtonStyleModel",
          "model_module_version": "1.5.0",
          "state": {
            "_view_name": "StyleView",
            "_model_name": "ButtonStyleModel",
            "_view_module": "@jupyter-widgets/base",
            "_model_module_version": "1.5.0",
            "_view_count": null,
            "button_color": null,
            "font_weight": "",
            "_view_module_version": "1.2.0",
            "_model_module": "@jupyter-widgets/controls"
          }
        },
        "ce88b49e73924dd19e7fafee5a6a29aa": {
          "model_module": "@jupyter-widgets/base",
          "model_name": "LayoutModel",
          "model_module_version": "1.2.0",
          "state": {
            "_view_name": "LayoutView",
            "grid_template_rows": null,
            "right": null,
            "justify_content": null,
            "_view_module": "@jupyter-widgets/base",
            "overflow": null,
            "_model_module_version": "1.2.0",
            "_view_count": null,
            "flex_flow": null,
            "width": null,
            "min_width": null,
            "border": null,
            "align_items": null,
            "bottom": null,
            "_model_module": "@jupyter-widgets/base",
            "top": null,
            "grid_column": null,
            "overflow_y": null,
            "overflow_x": null,
            "grid_auto_flow": null,
            "grid_area": null,
            "grid_template_columns": null,
            "flex": null,
            "_model_name": "LayoutModel",
            "justify_items": null,
            "grid_row": null,
            "max_height": null,
            "align_content": null,
            "visibility": null,
            "align_self": null,
            "height": null,
            "min_height": null,
            "padding": null,
            "grid_auto_rows": null,
            "grid_gap": null,
            "max_width": null,
            "order": null,
            "_view_module_version": "1.2.0",
            "grid_template_areas": null,
            "object_position": null,
            "object_fit": null,
            "grid_auto_columns": null,
            "margin": null,
            "display": null,
            "left": null
          }
        },
        "583d004f84344afcada6e194dbaaf026": {
          "model_module": "@jupyter-widgets/base",
          "model_name": "LayoutModel",
          "model_module_version": "1.2.0",
          "state": {
            "_view_name": "LayoutView",
            "grid_template_rows": null,
            "right": null,
            "justify_content": null,
            "_view_module": "@jupyter-widgets/base",
            "overflow": null,
            "_model_module_version": "1.2.0",
            "_view_count": null,
            "flex_flow": null,
            "width": null,
            "min_width": null,
            "border": null,
            "align_items": null,
            "bottom": null,
            "_model_module": "@jupyter-widgets/base",
            "top": null,
            "grid_column": null,
            "overflow_y": null,
            "overflow_x": null,
            "grid_auto_flow": null,
            "grid_area": null,
            "grid_template_columns": null,
            "flex": null,
            "_model_name": "LayoutModel",
            "justify_items": null,
            "grid_row": null,
            "max_height": null,
            "align_content": null,
            "visibility": null,
            "align_self": null,
            "height": null,
            "min_height": null,
            "padding": null,
            "grid_auto_rows": null,
            "grid_gap": null,
            "max_width": null,
            "order": null,
            "_view_module_version": "1.2.0",
            "grid_template_areas": null,
            "object_position": null,
            "object_fit": null,
            "grid_auto_columns": null,
            "margin": null,
            "display": null,
            "left": null
          }
        },
        "b662f0af86f54c00a9587336cbf3384b": {
          "model_module": "@jupyter-widgets/controls",
          "model_name": "VBoxModel",
          "model_module_version": "1.5.0",
          "state": {
            "_view_name": "VBoxView",
            "_dom_classes": [
              "widget-interact"
            ],
            "_model_name": "VBoxModel",
            "_view_module": "@jupyter-widgets/controls",
            "_model_module_version": "1.5.0",
            "_view_count": null,
            "_view_module_version": "1.5.0",
            "box_style": "",
            "layout": "IPY_MODEL_c35b5d3e231549c2aed51068752b9969",
            "_model_module": "@jupyter-widgets/controls",
            "children": [
              "IPY_MODEL_dc0c3d7f26a74e8c844df3212022b4aa",
              "IPY_MODEL_c1ccd9b129e2431a95acd87ac2ff119c",
              "IPY_MODEL_5ee097bd5ac14668b5f6b1e4b6bde0e4"
            ]
          }
        },
        "c35b5d3e231549c2aed51068752b9969": {
          "model_module": "@jupyter-widgets/base",
          "model_name": "LayoutModel",
          "model_module_version": "1.2.0",
          "state": {
            "_view_name": "LayoutView",
            "grid_template_rows": null,
            "right": null,
            "justify_content": null,
            "_view_module": "@jupyter-widgets/base",
            "overflow": null,
            "_model_module_version": "1.2.0",
            "_view_count": null,
            "flex_flow": null,
            "width": null,
            "min_width": null,
            "border": null,
            "align_items": null,
            "bottom": null,
            "_model_module": "@jupyter-widgets/base",
            "top": null,
            "grid_column": null,
            "overflow_y": null,
            "overflow_x": null,
            "grid_auto_flow": null,
            "grid_area": null,
            "grid_template_columns": null,
            "flex": null,
            "_model_name": "LayoutModel",
            "justify_items": null,
            "grid_row": null,
            "max_height": null,
            "align_content": null,
            "visibility": null,
            "align_self": null,
            "height": null,
            "min_height": null,
            "padding": null,
            "grid_auto_rows": null,
            "grid_gap": null,
            "max_width": null,
            "order": null,
            "_view_module_version": "1.2.0",
            "grid_template_areas": null,
            "object_position": null,
            "object_fit": null,
            "grid_auto_columns": null,
            "margin": null,
            "display": null,
            "left": null
          }
        },
        "dc0c3d7f26a74e8c844df3212022b4aa": {
          "model_module": "@jupyter-widgets/controls",
          "model_name": "FloatSliderModel",
          "model_module_version": "1.5.0",
          "state": {
            "_view_name": "FloatSliderView",
            "style": "IPY_MODEL_ff40d02ec9e24316ab581b11f736f59a",
            "_dom_classes": [],
            "description": "i",
            "step": 10000,
            "_model_name": "FloatSliderModel",
            "orientation": "horizontal",
            "max": 1000000,
            "_view_module": "@jupyter-widgets/controls",
            "_model_module_version": "1.5.0",
            "value": 10000,
            "_view_count": null,
            "disabled": false,
            "_view_module_version": "1.5.0",
            "min": 10000,
            "continuous_update": true,
            "readout_format": ".2f",
            "description_tooltip": null,
            "readout": true,
            "_model_module": "@jupyter-widgets/controls",
            "layout": "IPY_MODEL_24b82fd333b9491dbbf99134f6be06e7"
          }
        },
        "c1ccd9b129e2431a95acd87ac2ff119c": {
          "model_module": "@jupyter-widgets/controls",
          "model_name": "ButtonModel",
          "model_module_version": "1.5.0",
          "state": {
            "_view_name": "ButtonView",
            "style": "IPY_MODEL_aff724971e954af4ad33fc46477837f4",
            "_dom_classes": [],
            "description": "Run Interact",
            "_model_name": "ButtonModel",
            "button_style": "",
            "_view_module": "@jupyter-widgets/controls",
            "_model_module_version": "1.5.0",
            "tooltip": "",
            "_view_count": null,
            "disabled": false,
            "_view_module_version": "1.5.0",
            "layout": "IPY_MODEL_c85cf928ffea4b4f9eff470327e20406",
            "_model_module": "@jupyter-widgets/controls",
            "icon": ""
          }
        },
        "5ee097bd5ac14668b5f6b1e4b6bde0e4": {
          "model_module": "@jupyter-widgets/output",
          "model_name": "OutputModel",
          "model_module_version": "1.0.0",
          "state": {
            "_view_name": "OutputView",
            "msg_id": "",
            "_dom_classes": [],
            "_model_name": "OutputModel",
            "outputs": [],
            "_view_module": "@jupyter-widgets/output",
            "_model_module_version": "1.0.0",
            "_view_count": null,
            "_view_module_version": "1.0.0",
            "layout": "IPY_MODEL_7bb793c63cfb4644afba933b50a9f2e3",
            "_model_module": "@jupyter-widgets/output"
          }
        },
        "ff40d02ec9e24316ab581b11f736f59a": {
          "model_module": "@jupyter-widgets/controls",
          "model_name": "SliderStyleModel",
          "model_module_version": "1.5.0",
          "state": {
            "_view_name": "StyleView",
            "handle_color": null,
            "_model_name": "SliderStyleModel",
            "description_width": "",
            "_view_module": "@jupyter-widgets/base",
            "_model_module_version": "1.5.0",
            "_view_count": null,
            "_view_module_version": "1.2.0",
            "_model_module": "@jupyter-widgets/controls"
          }
        },
        "24b82fd333b9491dbbf99134f6be06e7": {
          "model_module": "@jupyter-widgets/base",
          "model_name": "LayoutModel",
          "model_module_version": "1.2.0",
          "state": {
            "_view_name": "LayoutView",
            "grid_template_rows": null,
            "right": null,
            "justify_content": null,
            "_view_module": "@jupyter-widgets/base",
            "overflow": null,
            "_model_module_version": "1.2.0",
            "_view_count": null,
            "flex_flow": null,
            "width": null,
            "min_width": null,
            "border": null,
            "align_items": null,
            "bottom": null,
            "_model_module": "@jupyter-widgets/base",
            "top": null,
            "grid_column": null,
            "overflow_y": null,
            "overflow_x": null,
            "grid_auto_flow": null,
            "grid_area": null,
            "grid_template_columns": null,
            "flex": null,
            "_model_name": "LayoutModel",
            "justify_items": null,
            "grid_row": null,
            "max_height": null,
            "align_content": null,
            "visibility": null,
            "align_self": null,
            "height": null,
            "min_height": null,
            "padding": null,
            "grid_auto_rows": null,
            "grid_gap": null,
            "max_width": null,
            "order": null,
            "_view_module_version": "1.2.0",
            "grid_template_areas": null,
            "object_position": null,
            "object_fit": null,
            "grid_auto_columns": null,
            "margin": null,
            "display": null,
            "left": null
          }
        },
        "aff724971e954af4ad33fc46477837f4": {
          "model_module": "@jupyter-widgets/controls",
          "model_name": "ButtonStyleModel",
          "model_module_version": "1.5.0",
          "state": {
            "_view_name": "StyleView",
            "_model_name": "ButtonStyleModel",
            "_view_module": "@jupyter-widgets/base",
            "_model_module_version": "1.5.0",
            "_view_count": null,
            "button_color": null,
            "font_weight": "",
            "_view_module_version": "1.2.0",
            "_model_module": "@jupyter-widgets/controls"
          }
        },
        "c85cf928ffea4b4f9eff470327e20406": {
          "model_module": "@jupyter-widgets/base",
          "model_name": "LayoutModel",
          "model_module_version": "1.2.0",
          "state": {
            "_view_name": "LayoutView",
            "grid_template_rows": null,
            "right": null,
            "justify_content": null,
            "_view_module": "@jupyter-widgets/base",
            "overflow": null,
            "_model_module_version": "1.2.0",
            "_view_count": null,
            "flex_flow": null,
            "width": null,
            "min_width": null,
            "border": null,
            "align_items": null,
            "bottom": null,
            "_model_module": "@jupyter-widgets/base",
            "top": null,
            "grid_column": null,
            "overflow_y": null,
            "overflow_x": null,
            "grid_auto_flow": null,
            "grid_area": null,
            "grid_template_columns": null,
            "flex": null,
            "_model_name": "LayoutModel",
            "justify_items": null,
            "grid_row": null,
            "max_height": null,
            "align_content": null,
            "visibility": null,
            "align_self": null,
            "height": null,
            "min_height": null,
            "padding": null,
            "grid_auto_rows": null,
            "grid_gap": null,
            "max_width": null,
            "order": null,
            "_view_module_version": "1.2.0",
            "grid_template_areas": null,
            "object_position": null,
            "object_fit": null,
            "grid_auto_columns": null,
            "margin": null,
            "display": null,
            "left": null
          }
        },
        "7bb793c63cfb4644afba933b50a9f2e3": {
          "model_module": "@jupyter-widgets/base",
          "model_name": "LayoutModel",
          "model_module_version": "1.2.0",
          "state": {
            "_view_name": "LayoutView",
            "grid_template_rows": null,
            "right": null,
            "justify_content": null,
            "_view_module": "@jupyter-widgets/base",
            "overflow": null,
            "_model_module_version": "1.2.0",
            "_view_count": null,
            "flex_flow": null,
            "width": null,
            "min_width": null,
            "border": null,
            "align_items": null,
            "bottom": null,
            "_model_module": "@jupyter-widgets/base",
            "top": null,
            "grid_column": null,
            "overflow_y": null,
            "overflow_x": null,
            "grid_auto_flow": null,
            "grid_area": null,
            "grid_template_columns": null,
            "flex": null,
            "_model_name": "LayoutModel",
            "justify_items": null,
            "grid_row": null,
            "max_height": null,
            "align_content": null,
            "visibility": null,
            "align_self": null,
            "height": null,
            "min_height": null,
            "padding": null,
            "grid_auto_rows": null,
            "grid_gap": null,
            "max_width": null,
            "order": null,
            "_view_module_version": "1.2.0",
            "grid_template_areas": null,
            "object_position": null,
            "object_fit": null,
            "grid_auto_columns": null,
            "margin": null,
            "display": null,
            "left": null
          }
        },
        "fc0454935e5e40bc8a1e43122ded1e03": {
          "model_module": "@jupyter-widgets/controls",
          "model_name": "VBoxModel",
          "model_module_version": "1.5.0",
          "state": {
            "_view_name": "VBoxView",
            "_dom_classes": [
              "widget-interact"
            ],
            "_model_name": "VBoxModel",
            "_view_module": "@jupyter-widgets/controls",
            "_model_module_version": "1.5.0",
            "_view_count": null,
            "_view_module_version": "1.5.0",
            "box_style": "",
            "layout": "IPY_MODEL_cb3a4a49828a44fc9d995dbeeaa42f8f",
            "_model_module": "@jupyter-widgets/controls",
            "children": [
              "IPY_MODEL_363a9db06aad4cb5a4c4f39a56b02364",
              "IPY_MODEL_f91c8a554de44effb27672b32f8defdf"
            ]
          }
        },
        "cb3a4a49828a44fc9d995dbeeaa42f8f": {
          "model_module": "@jupyter-widgets/base",
          "model_name": "LayoutModel",
          "model_module_version": "1.2.0",
          "state": {
            "_view_name": "LayoutView",
            "grid_template_rows": null,
            "right": null,
            "justify_content": null,
            "_view_module": "@jupyter-widgets/base",
            "overflow": null,
            "_model_module_version": "1.2.0",
            "_view_count": null,
            "flex_flow": null,
            "width": null,
            "min_width": null,
            "border": null,
            "align_items": null,
            "bottom": null,
            "_model_module": "@jupyter-widgets/base",
            "top": null,
            "grid_column": null,
            "overflow_y": null,
            "overflow_x": null,
            "grid_auto_flow": null,
            "grid_area": null,
            "grid_template_columns": null,
            "flex": null,
            "_model_name": "LayoutModel",
            "justify_items": null,
            "grid_row": null,
            "max_height": null,
            "align_content": null,
            "visibility": null,
            "align_self": null,
            "height": null,
            "min_height": null,
            "padding": null,
            "grid_auto_rows": null,
            "grid_gap": null,
            "max_width": null,
            "order": null,
            "_view_module_version": "1.2.0",
            "grid_template_areas": null,
            "object_position": null,
            "object_fit": null,
            "grid_auto_columns": null,
            "margin": null,
            "display": null,
            "left": null
          }
        },
        "363a9db06aad4cb5a4c4f39a56b02364": {
          "model_module": "@jupyter-widgets/controls",
          "model_name": "FloatSliderModel",
          "model_module_version": "1.5.0",
          "state": {
            "_view_name": "FloatSliderView",
            "style": "IPY_MODEL_cb484783e77242c5b65c6e23067a29f9",
            "_dom_classes": [],
            "description": "i",
            "step": 100000,
            "_model_name": "FloatSliderModel",
            "orientation": "horizontal",
            "max": 10000000,
            "_view_module": "@jupyter-widgets/controls",
            "_model_module_version": "1.5.0",
            "value": 100000,
            "_view_count": null,
            "disabled": false,
            "_view_module_version": "1.5.0",
            "min": 100000,
            "continuous_update": false,
            "readout_format": ".2f",
            "description_tooltip": null,
            "readout": true,
            "_model_module": "@jupyter-widgets/controls",
            "layout": "IPY_MODEL_9c16c054df2341a3a1ccd0ec025b0db9"
          }
        },
        "f91c8a554de44effb27672b32f8defdf": {
          "model_module": "@jupyter-widgets/output",
          "model_name": "OutputModel",
          "model_module_version": "1.0.0",
          "state": {
            "_view_name": "OutputView",
            "msg_id": "",
            "_dom_classes": [],
            "_model_name": "OutputModel",
            "outputs": [
              {
                "output_type": "stream",
                "name": "stdout",
                "text": [
                  "100000 [0, 1, 2, 3, 11, 22, 101, 111, 121, 202, 212, 1001, 1111, 2002, 10001, 10101, 10201, 11011, 11111, 11211, 20002, 20102]\n"
                ]
              }
            ],
            "_view_module": "@jupyter-widgets/output",
            "_model_module_version": "1.0.0",
            "_view_count": null,
            "_view_module_version": "1.0.0",
            "layout": "IPY_MODEL_52904718a14a49b2af7789e1a74c9a14",
            "_model_module": "@jupyter-widgets/output"
          }
        },
        "cb484783e77242c5b65c6e23067a29f9": {
          "model_module": "@jupyter-widgets/controls",
          "model_name": "SliderStyleModel",
          "model_module_version": "1.5.0",
          "state": {
            "_view_name": "StyleView",
            "handle_color": null,
            "_model_name": "SliderStyleModel",
            "description_width": "",
            "_view_module": "@jupyter-widgets/base",
            "_model_module_version": "1.5.0",
            "_view_count": null,
            "_view_module_version": "1.2.0",
            "_model_module": "@jupyter-widgets/controls"
          }
        },
        "9c16c054df2341a3a1ccd0ec025b0db9": {
          "model_module": "@jupyter-widgets/base",
          "model_name": "LayoutModel",
          "model_module_version": "1.2.0",
          "state": {
            "_view_name": "LayoutView",
            "grid_template_rows": null,
            "right": null,
            "justify_content": null,
            "_view_module": "@jupyter-widgets/base",
            "overflow": null,
            "_model_module_version": "1.2.0",
            "_view_count": null,
            "flex_flow": null,
            "width": null,
            "min_width": null,
            "border": null,
            "align_items": null,
            "bottom": null,
            "_model_module": "@jupyter-widgets/base",
            "top": null,
            "grid_column": null,
            "overflow_y": null,
            "overflow_x": null,
            "grid_auto_flow": null,
            "grid_area": null,
            "grid_template_columns": null,
            "flex": null,
            "_model_name": "LayoutModel",
            "justify_items": null,
            "grid_row": null,
            "max_height": null,
            "align_content": null,
            "visibility": null,
            "align_self": null,
            "height": null,
            "min_height": null,
            "padding": null,
            "grid_auto_rows": null,
            "grid_gap": null,
            "max_width": null,
            "order": null,
            "_view_module_version": "1.2.0",
            "grid_template_areas": null,
            "object_position": null,
            "object_fit": null,
            "grid_auto_columns": null,
            "margin": null,
            "display": null,
            "left": null
          }
        },
        "52904718a14a49b2af7789e1a74c9a14": {
          "model_module": "@jupyter-widgets/base",
          "model_name": "LayoutModel",
          "model_module_version": "1.2.0",
          "state": {
            "_view_name": "LayoutView",
            "grid_template_rows": null,
            "right": null,
            "justify_content": null,
            "_view_module": "@jupyter-widgets/base",
            "overflow": null,
            "_model_module_version": "1.2.0",
            "_view_count": null,
            "flex_flow": null,
            "width": null,
            "min_width": null,
            "border": null,
            "align_items": null,
            "bottom": null,
            "_model_module": "@jupyter-widgets/base",
            "top": null,
            "grid_column": null,
            "overflow_y": null,
            "overflow_x": null,
            "grid_auto_flow": null,
            "grid_area": null,
            "grid_template_columns": null,
            "flex": null,
            "_model_name": "LayoutModel",
            "justify_items": null,
            "grid_row": null,
            "max_height": null,
            "align_content": null,
            "visibility": null,
            "align_self": null,
            "height": null,
            "min_height": null,
            "padding": null,
            "grid_auto_rows": null,
            "grid_gap": null,
            "max_width": null,
            "order": null,
            "_view_module_version": "1.2.0",
            "grid_template_areas": null,
            "object_position": null,
            "object_fit": null,
            "grid_auto_columns": null,
            "margin": null,
            "display": null,
            "left": null
          }
        },
        "3a8e736feafc429080b8cd84b96851b3": {
          "model_module": "@jupyter-widgets/controls",
          "model_name": "HBoxModel",
          "model_module_version": "1.5.0",
          "state": {
            "_view_name": "HBoxView",
            "_dom_classes": [],
            "_model_name": "HBoxModel",
            "_view_module": "@jupyter-widgets/controls",
            "_model_module_version": "1.5.0",
            "_view_count": null,
            "_view_module_version": "1.5.0",
            "box_style": "",
            "layout": "IPY_MODEL_110302e2e61846bea3daa7f0c200fedb",
            "_model_module": "@jupyter-widgets/controls",
            "children": [
              "IPY_MODEL_eb352073bccc4cbea2b393498b779fd5",
              "IPY_MODEL_b0082eda30d7499b97931c18fc89fec5",
              "IPY_MODEL_0c03fd4a97c640daa239b622a0dfb31d"
            ]
          }
        },
        "110302e2e61846bea3daa7f0c200fedb": {
          "model_module": "@jupyter-widgets/base",
          "model_name": "LayoutModel",
          "model_module_version": "1.2.0",
          "state": {
            "_view_name": "LayoutView",
            "grid_template_rows": null,
            "right": null,
            "justify_content": null,
            "_view_module": "@jupyter-widgets/base",
            "overflow": null,
            "_model_module_version": "1.2.0",
            "_view_count": null,
            "flex_flow": null,
            "width": null,
            "min_width": null,
            "border": null,
            "align_items": null,
            "bottom": null,
            "_model_module": "@jupyter-widgets/base",
            "top": null,
            "grid_column": null,
            "overflow_y": null,
            "overflow_x": null,
            "grid_auto_flow": null,
            "grid_area": null,
            "grid_template_columns": null,
            "flex": null,
            "_model_name": "LayoutModel",
            "justify_items": null,
            "grid_row": null,
            "max_height": null,
            "align_content": null,
            "visibility": null,
            "align_self": null,
            "height": null,
            "min_height": null,
            "padding": null,
            "grid_auto_rows": null,
            "grid_gap": null,
            "max_width": null,
            "order": null,
            "_view_module_version": "1.2.0",
            "grid_template_areas": null,
            "object_position": null,
            "object_fit": null,
            "grid_auto_columns": null,
            "margin": null,
            "display": null,
            "left": null
          }
        },
        "eb352073bccc4cbea2b393498b779fd5": {
          "model_module": "@jupyter-widgets/controls",
          "model_name": "IntSliderModel",
          "model_module_version": "1.5.0",
          "state": {
            "_view_name": "IntSliderView",
            "style": "IPY_MODEL_fd6a2754b13f465e8caf7d77b03955b5",
            "_dom_classes": [],
            "description": "",
            "step": 1,
            "_model_name": "IntSliderModel",
            "orientation": "horizontal",
            "max": 100,
            "_view_module": "@jupyter-widgets/controls",
            "_model_module_version": "1.5.0",
            "value": 0,
            "_view_count": null,
            "disabled": false,
            "_view_module_version": "1.5.0",
            "min": 0,
            "continuous_update": true,
            "readout_format": "d",
            "description_tooltip": null,
            "readout": true,
            "_model_module": "@jupyter-widgets/controls",
            "layout": "IPY_MODEL_923333a77827408bab61d152c430dfd3"
          }
        },
        "b0082eda30d7499b97931c18fc89fec5": {
          "model_module": "@jupyter-widgets/controls",
          "model_name": "IntSliderModel",
          "model_module_version": "1.5.0",
          "state": {
            "_view_name": "IntSliderView",
            "style": "IPY_MODEL_3f73555dd16a4fb393dbb7d038bf8b51",
            "_dom_classes": [],
            "description": "",
            "step": 1,
            "_model_name": "IntSliderModel",
            "orientation": "horizontal",
            "max": 100,
            "_view_module": "@jupyter-widgets/controls",
            "_model_module_version": "1.5.0",
            "value": 0,
            "_view_count": null,
            "disabled": false,
            "_view_module_version": "1.5.0",
            "min": 0,
            "continuous_update": true,
            "readout_format": "d",
            "description_tooltip": null,
            "readout": true,
            "_model_module": "@jupyter-widgets/controls",
            "layout": "IPY_MODEL_4dedc90d9ed849729d8afc8a09ebb1b0"
          }
        },
        "0c03fd4a97c640daa239b622a0dfb31d": {
          "model_module": "@jupyter-widgets/controls",
          "model_name": "IntSliderModel",
          "model_module_version": "1.5.0",
          "state": {
            "_view_name": "IntSliderView",
            "style": "IPY_MODEL_c43ab707c1c94e69a6ce2d15199f7d2d",
            "_dom_classes": [],
            "description": "",
            "step": 1,
            "_model_name": "IntSliderModel",
            "orientation": "horizontal",
            "max": 100,
            "_view_module": "@jupyter-widgets/controls",
            "_model_module_version": "1.5.0",
            "value": 0,
            "_view_count": null,
            "disabled": false,
            "_view_module_version": "1.5.0",
            "min": 0,
            "continuous_update": true,
            "readout_format": "d",
            "description_tooltip": null,
            "readout": true,
            "_model_module": "@jupyter-widgets/controls",
            "layout": "IPY_MODEL_bc1858547ecc49728b4f79403be4319e"
          }
        },
        "fd6a2754b13f465e8caf7d77b03955b5": {
          "model_module": "@jupyter-widgets/controls",
          "model_name": "SliderStyleModel",
          "model_module_version": "1.5.0",
          "state": {
            "_view_name": "StyleView",
            "handle_color": null,
            "_model_name": "SliderStyleModel",
            "description_width": "",
            "_view_module": "@jupyter-widgets/base",
            "_model_module_version": "1.5.0",
            "_view_count": null,
            "_view_module_version": "1.2.0",
            "_model_module": "@jupyter-widgets/controls"
          }
        },
        "923333a77827408bab61d152c430dfd3": {
          "model_module": "@jupyter-widgets/base",
          "model_name": "LayoutModel",
          "model_module_version": "1.2.0",
          "state": {
            "_view_name": "LayoutView",
            "grid_template_rows": null,
            "right": null,
            "justify_content": null,
            "_view_module": "@jupyter-widgets/base",
            "overflow": null,
            "_model_module_version": "1.2.0",
            "_view_count": null,
            "flex_flow": null,
            "width": null,
            "min_width": null,
            "border": null,
            "align_items": null,
            "bottom": null,
            "_model_module": "@jupyter-widgets/base",
            "top": null,
            "grid_column": null,
            "overflow_y": null,
            "overflow_x": null,
            "grid_auto_flow": null,
            "grid_area": null,
            "grid_template_columns": null,
            "flex": null,
            "_model_name": "LayoutModel",
            "justify_items": null,
            "grid_row": null,
            "max_height": null,
            "align_content": null,
            "visibility": null,
            "align_self": null,
            "height": null,
            "min_height": null,
            "padding": null,
            "grid_auto_rows": null,
            "grid_gap": null,
            "max_width": null,
            "order": null,
            "_view_module_version": "1.2.0",
            "grid_template_areas": null,
            "object_position": null,
            "object_fit": null,
            "grid_auto_columns": null,
            "margin": null,
            "display": null,
            "left": null
          }
        },
        "3f73555dd16a4fb393dbb7d038bf8b51": {
          "model_module": "@jupyter-widgets/controls",
          "model_name": "SliderStyleModel",
          "model_module_version": "1.5.0",
          "state": {
            "_view_name": "StyleView",
            "handle_color": null,
            "_model_name": "SliderStyleModel",
            "description_width": "",
            "_view_module": "@jupyter-widgets/base",
            "_model_module_version": "1.5.0",
            "_view_count": null,
            "_view_module_version": "1.2.0",
            "_model_module": "@jupyter-widgets/controls"
          }
        },
        "4dedc90d9ed849729d8afc8a09ebb1b0": {
          "model_module": "@jupyter-widgets/base",
          "model_name": "LayoutModel",
          "model_module_version": "1.2.0",
          "state": {
            "_view_name": "LayoutView",
            "grid_template_rows": null,
            "right": null,
            "justify_content": null,
            "_view_module": "@jupyter-widgets/base",
            "overflow": null,
            "_model_module_version": "1.2.0",
            "_view_count": null,
            "flex_flow": null,
            "width": null,
            "min_width": null,
            "border": null,
            "align_items": null,
            "bottom": null,
            "_model_module": "@jupyter-widgets/base",
            "top": null,
            "grid_column": null,
            "overflow_y": null,
            "overflow_x": null,
            "grid_auto_flow": null,
            "grid_area": null,
            "grid_template_columns": null,
            "flex": null,
            "_model_name": "LayoutModel",
            "justify_items": null,
            "grid_row": null,
            "max_height": null,
            "align_content": null,
            "visibility": null,
            "align_self": null,
            "height": null,
            "min_height": null,
            "padding": null,
            "grid_auto_rows": null,
            "grid_gap": null,
            "max_width": null,
            "order": null,
            "_view_module_version": "1.2.0",
            "grid_template_areas": null,
            "object_position": null,
            "object_fit": null,
            "grid_auto_columns": null,
            "margin": null,
            "display": null,
            "left": null
          }
        },
        "c43ab707c1c94e69a6ce2d15199f7d2d": {
          "model_module": "@jupyter-widgets/controls",
          "model_name": "SliderStyleModel",
          "model_module_version": "1.5.0",
          "state": {
            "_view_name": "StyleView",
            "handle_color": null,
            "_model_name": "SliderStyleModel",
            "description_width": "",
            "_view_module": "@jupyter-widgets/base",
            "_model_module_version": "1.5.0",
            "_view_count": null,
            "_view_module_version": "1.2.0",
            "_model_module": "@jupyter-widgets/controls"
          }
        },
        "bc1858547ecc49728b4f79403be4319e": {
          "model_module": "@jupyter-widgets/base",
          "model_name": "LayoutModel",
          "model_module_version": "1.2.0",
          "state": {
            "_view_name": "LayoutView",
            "grid_template_rows": null,
            "right": null,
            "justify_content": null,
            "_view_module": "@jupyter-widgets/base",
            "overflow": null,
            "_model_module_version": "1.2.0",
            "_view_count": null,
            "flex_flow": null,
            "width": null,
            "min_width": null,
            "border": null,
            "align_items": null,
            "bottom": null,
            "_model_module": "@jupyter-widgets/base",
            "top": null,
            "grid_column": null,
            "overflow_y": null,
            "overflow_x": null,
            "grid_auto_flow": null,
            "grid_area": null,
            "grid_template_columns": null,
            "flex": null,
            "_model_name": "LayoutModel",
            "justify_items": null,
            "grid_row": null,
            "max_height": null,
            "align_content": null,
            "visibility": null,
            "align_self": null,
            "height": null,
            "min_height": null,
            "padding": null,
            "grid_auto_rows": null,
            "grid_gap": null,
            "max_width": null,
            "order": null,
            "_view_module_version": "1.2.0",
            "grid_template_areas": null,
            "object_position": null,
            "object_fit": null,
            "grid_auto_columns": null,
            "margin": null,
            "display": null,
            "left": null
          }
        },
        "761ae1fba5fb4a66a7f4bf948cd6fa6e": {
          "model_module": "@jupyter-widgets/output",
          "model_name": "OutputModel",
          "model_module_version": "1.0.0",
          "state": {
            "_view_name": "OutputView",
            "msg_id": "",
            "_dom_classes": [],
            "_model_name": "OutputModel",
            "outputs": [
              {
                "output_type": "stream",
                "name": "stdout",
                "text": [
                  "(0, 0, 0)\n"
                ]
              }
            ],
            "_view_module": "@jupyter-widgets/output",
            "_model_module_version": "1.0.0",
            "_view_count": null,
            "_view_module_version": "1.0.0",
            "layout": "IPY_MODEL_143733a1bb3141d3bd3f248c40195aad",
            "_model_module": "@jupyter-widgets/output"
          }
        },
        "143733a1bb3141d3bd3f248c40195aad": {
          "model_module": "@jupyter-widgets/base",
          "model_name": "LayoutModel",
          "model_module_version": "1.2.0",
          "state": {
            "_view_name": "LayoutView",
            "grid_template_rows": null,
            "right": null,
            "justify_content": null,
            "_view_module": "@jupyter-widgets/base",
            "overflow": null,
            "_model_module_version": "1.2.0",
            "_view_count": null,
            "flex_flow": null,
            "width": null,
            "min_width": null,
            "border": null,
            "align_items": null,
            "bottom": null,
            "_model_module": "@jupyter-widgets/base",
            "top": null,
            "grid_column": null,
            "overflow_y": null,
            "overflow_x": null,
            "grid_auto_flow": null,
            "grid_area": null,
            "grid_template_columns": null,
            "flex": null,
            "_model_name": "LayoutModel",
            "justify_items": null,
            "grid_row": null,
            "max_height": null,
            "align_content": null,
            "visibility": null,
            "align_self": null,
            "height": null,
            "min_height": null,
            "padding": null,
            "grid_auto_rows": null,
            "grid_gap": null,
            "max_width": null,
            "order": null,
            "_view_module_version": "1.2.0",
            "grid_template_areas": null,
            "object_position": null,
            "object_fit": null,
            "grid_auto_columns": null,
            "margin": null,
            "display": null,
            "left": null
          }
        },
        "67720d789ca3490fbf54309355f53ea4": {
          "model_module": "@jupyter-widgets/controls",
          "model_name": "VBoxModel",
          "model_module_version": "1.5.0",
          "state": {
            "_view_name": "VBoxView",
            "_dom_classes": [
              "widget-interact"
            ],
            "_model_name": "VBoxModel",
            "_view_module": "@jupyter-widgets/controls",
            "_model_module_version": "1.5.0",
            "_view_count": null,
            "_view_module_version": "1.5.0",
            "box_style": "",
            "layout": "IPY_MODEL_81ce910032554f7aa4b76c349e9c480c",
            "_model_module": "@jupyter-widgets/controls",
            "children": [
              "IPY_MODEL_0bce084536244ad48dbf0e65df2ceeda",
              "IPY_MODEL_aecf821d74b44e129997589e4fcd7b0b",
              "IPY_MODEL_4cccd7580eac43bab46d4c443d73fbd6"
            ]
          }
        },
        "81ce910032554f7aa4b76c349e9c480c": {
          "model_module": "@jupyter-widgets/base",
          "model_name": "LayoutModel",
          "model_module_version": "1.2.0",
          "state": {
            "_view_name": "LayoutView",
            "grid_template_rows": null,
            "right": null,
            "justify_content": null,
            "_view_module": "@jupyter-widgets/base",
            "overflow": null,
            "_model_module_version": "1.2.0",
            "_view_count": null,
            "flex_flow": null,
            "width": null,
            "min_width": null,
            "border": null,
            "align_items": null,
            "bottom": null,
            "_model_module": "@jupyter-widgets/base",
            "top": null,
            "grid_column": null,
            "overflow_y": null,
            "overflow_x": null,
            "grid_auto_flow": null,
            "grid_area": null,
            "grid_template_columns": null,
            "flex": null,
            "_model_name": "LayoutModel",
            "justify_items": null,
            "grid_row": null,
            "max_height": null,
            "align_content": null,
            "visibility": null,
            "align_self": null,
            "height": null,
            "min_height": null,
            "padding": null,
            "grid_auto_rows": null,
            "grid_gap": null,
            "max_width": null,
            "order": null,
            "_view_module_version": "1.2.0",
            "grid_template_areas": null,
            "object_position": null,
            "object_fit": null,
            "grid_auto_columns": null,
            "margin": null,
            "display": null,
            "left": null
          }
        },
        "0bce084536244ad48dbf0e65df2ceeda": {
          "model_module": "@jupyter-widgets/controls",
          "model_name": "FloatSliderModel",
          "model_module_version": "1.5.0",
          "state": {
            "_view_name": "FloatSliderView",
            "style": "IPY_MODEL_83c10d80ee3045cc9508d7b31ff3408e",
            "_dom_classes": [],
            "description": "x",
            "step": 0.05,
            "_model_name": "FloatSliderModel",
            "orientation": "horizontal",
            "max": 10,
            "_view_module": "@jupyter-widgets/controls",
            "_model_module_version": "1.5.0",
            "value": 0,
            "_view_count": null,
            "disabled": false,
            "_view_module_version": "1.5.0",
            "min": 0,
            "continuous_update": true,
            "readout_format": ".2f",
            "description_tooltip": null,
            "readout": true,
            "_model_module": "@jupyter-widgets/controls",
            "layout": "IPY_MODEL_cf60228a1e69467e907cc2eb40847283"
          }
        },
        "aecf821d74b44e129997589e4fcd7b0b": {
          "model_module": "@jupyter-widgets/controls",
          "model_name": "FloatSliderModel",
          "model_module_version": "1.5.0",
          "state": {
            "_view_name": "FloatSliderView",
            "style": "IPY_MODEL_860c14f219fe48b1997b098091d89da6",
            "_dom_classes": [],
            "description": "y",
            "step": 0.05,
            "_model_name": "FloatSliderModel",
            "orientation": "horizontal",
            "max": 10,
            "_view_module": "@jupyter-widgets/controls",
            "_model_module_version": "1.5.0",
            "value": 5,
            "_view_count": null,
            "disabled": false,
            "_view_module_version": "1.5.0",
            "min": 0.5,
            "continuous_update": true,
            "readout_format": ".2f",
            "description_tooltip": null,
            "readout": true,
            "_model_module": "@jupyter-widgets/controls",
            "layout": "IPY_MODEL_b1f7eeb4e3444ae88946509089807a38"
          }
        },
        "4cccd7580eac43bab46d4c443d73fbd6": {
          "model_module": "@jupyter-widgets/output",
          "model_name": "OutputModel",
          "model_module_version": "1.0.0",
          "state": {
            "_view_name": "OutputView",
            "msg_id": "",
            "_dom_classes": [],
            "_model_name": "OutputModel",
            "outputs": [
              {
                "output_type": "stream",
                "name": "stdout",
                "text": [
                  "0.0 5.0\n"
                ]
              }
            ],
            "_view_module": "@jupyter-widgets/output",
            "_model_module_version": "1.0.0",
            "_view_count": null,
            "_view_module_version": "1.0.0",
            "layout": "IPY_MODEL_86cbcfc2352941adba28efe9c46a4fc3",
            "_model_module": "@jupyter-widgets/output"
          }
        },
        "83c10d80ee3045cc9508d7b31ff3408e": {
          "model_module": "@jupyter-widgets/controls",
          "model_name": "SliderStyleModel",
          "model_module_version": "1.5.0",
          "state": {
            "_view_name": "StyleView",
            "handle_color": null,
            "_model_name": "SliderStyleModel",
            "description_width": "",
            "_view_module": "@jupyter-widgets/base",
            "_model_module_version": "1.5.0",
            "_view_count": null,
            "_view_module_version": "1.2.0",
            "_model_module": "@jupyter-widgets/controls"
          }
        },
        "cf60228a1e69467e907cc2eb40847283": {
          "model_module": "@jupyter-widgets/base",
          "model_name": "LayoutModel",
          "model_module_version": "1.2.0",
          "state": {
            "_view_name": "LayoutView",
            "grid_template_rows": null,
            "right": null,
            "justify_content": null,
            "_view_module": "@jupyter-widgets/base",
            "overflow": null,
            "_model_module_version": "1.2.0",
            "_view_count": null,
            "flex_flow": null,
            "width": null,
            "min_width": null,
            "border": null,
            "align_items": null,
            "bottom": null,
            "_model_module": "@jupyter-widgets/base",
            "top": null,
            "grid_column": null,
            "overflow_y": null,
            "overflow_x": null,
            "grid_auto_flow": null,
            "grid_area": null,
            "grid_template_columns": null,
            "flex": null,
            "_model_name": "LayoutModel",
            "justify_items": null,
            "grid_row": null,
            "max_height": null,
            "align_content": null,
            "visibility": null,
            "align_self": null,
            "height": null,
            "min_height": null,
            "padding": null,
            "grid_auto_rows": null,
            "grid_gap": null,
            "max_width": null,
            "order": null,
            "_view_module_version": "1.2.0",
            "grid_template_areas": null,
            "object_position": null,
            "object_fit": null,
            "grid_auto_columns": null,
            "margin": null,
            "display": null,
            "left": null
          }
        },
        "860c14f219fe48b1997b098091d89da6": {
          "model_module": "@jupyter-widgets/controls",
          "model_name": "SliderStyleModel",
          "model_module_version": "1.5.0",
          "state": {
            "_view_name": "StyleView",
            "handle_color": null,
            "_model_name": "SliderStyleModel",
            "description_width": "",
            "_view_module": "@jupyter-widgets/base",
            "_model_module_version": "1.5.0",
            "_view_count": null,
            "_view_module_version": "1.2.0",
            "_model_module": "@jupyter-widgets/controls"
          }
        },
        "b1f7eeb4e3444ae88946509089807a38": {
          "model_module": "@jupyter-widgets/base",
          "model_name": "LayoutModel",
          "model_module_version": "1.2.0",
          "state": {
            "_view_name": "LayoutView",
            "grid_template_rows": null,
            "right": null,
            "justify_content": null,
            "_view_module": "@jupyter-widgets/base",
            "overflow": null,
            "_model_module_version": "1.2.0",
            "_view_count": null,
            "flex_flow": null,
            "width": null,
            "min_width": null,
            "border": null,
            "align_items": null,
            "bottom": null,
            "_model_module": "@jupyter-widgets/base",
            "top": null,
            "grid_column": null,
            "overflow_y": null,
            "overflow_x": null,
            "grid_auto_flow": null,
            "grid_area": null,
            "grid_template_columns": null,
            "flex": null,
            "_model_name": "LayoutModel",
            "justify_items": null,
            "grid_row": null,
            "max_height": null,
            "align_content": null,
            "visibility": null,
            "align_self": null,
            "height": null,
            "min_height": null,
            "padding": null,
            "grid_auto_rows": null,
            "grid_gap": null,
            "max_width": null,
            "order": null,
            "_view_module_version": "1.2.0",
            "grid_template_areas": null,
            "object_position": null,
            "object_fit": null,
            "grid_auto_columns": null,
            "margin": null,
            "display": null,
            "left": null
          }
        },
        "86cbcfc2352941adba28efe9c46a4fc3": {
          "model_module": "@jupyter-widgets/base",
          "model_name": "LayoutModel",
          "model_module_version": "1.2.0",
          "state": {
            "_view_name": "LayoutView",
            "grid_template_rows": null,
            "right": null,
            "justify_content": null,
            "_view_module": "@jupyter-widgets/base",
            "overflow": null,
            "_model_module_version": "1.2.0",
            "_view_count": null,
            "flex_flow": null,
            "width": null,
            "min_width": null,
            "border": null,
            "align_items": null,
            "bottom": null,
            "_model_module": "@jupyter-widgets/base",
            "top": null,
            "grid_column": null,
            "overflow_y": null,
            "overflow_x": null,
            "grid_auto_flow": null,
            "grid_area": null,
            "grid_template_columns": null,
            "flex": null,
            "_model_name": "LayoutModel",
            "justify_items": null,
            "grid_row": null,
            "max_height": null,
            "align_content": null,
            "visibility": null,
            "align_self": null,
            "height": null,
            "min_height": null,
            "padding": null,
            "grid_auto_rows": null,
            "grid_gap": null,
            "max_width": null,
            "order": null,
            "_view_module_version": "1.2.0",
            "grid_template_areas": null,
            "object_position": null,
            "object_fit": null,
            "grid_auto_columns": null,
            "margin": null,
            "display": null,
            "left": null
          }
        },
        "02a966685a8a49f2996a51ecb5cfb8f0": {
          "model_module": "@jupyter-widgets/controls",
          "model_name": "VBoxModel",
          "model_module_version": "1.5.0",
          "state": {
            "_view_name": "VBoxView",
            "_dom_classes": [
              "widget-interact"
            ],
            "_model_name": "VBoxModel",
            "_view_module": "@jupyter-widgets/controls",
            "_model_module_version": "1.5.0",
            "_view_count": null,
            "_view_module_version": "1.5.0",
            "box_style": "",
            "layout": "IPY_MODEL_5013128443464c9299a40d7a44e0e294",
            "_model_module": "@jupyter-widgets/controls",
            "children": [
              "IPY_MODEL_2c0ce0170ced41bd9368b5c62edfd213",
              "IPY_MODEL_c608547e5ef74e11b09f463f6787ec3d",
              "IPY_MODEL_5580489d24fc484c993a86ab9e4f71b6"
            ]
          }
        },
        "5013128443464c9299a40d7a44e0e294": {
          "model_module": "@jupyter-widgets/base",
          "model_name": "LayoutModel",
          "model_module_version": "1.2.0",
          "state": {
            "_view_name": "LayoutView",
            "grid_template_rows": null,
            "right": null,
            "justify_content": null,
            "_view_module": "@jupyter-widgets/base",
            "overflow": null,
            "_model_module_version": "1.2.0",
            "_view_count": null,
            "flex_flow": null,
            "width": null,
            "min_width": null,
            "border": null,
            "align_items": null,
            "bottom": null,
            "_model_module": "@jupyter-widgets/base",
            "top": null,
            "grid_column": null,
            "overflow_y": null,
            "overflow_x": null,
            "grid_auto_flow": null,
            "grid_area": null,
            "grid_template_columns": null,
            "flex": null,
            "_model_name": "LayoutModel",
            "justify_items": null,
            "grid_row": null,
            "max_height": null,
            "align_content": null,
            "visibility": null,
            "align_self": null,
            "height": null,
            "min_height": null,
            "padding": null,
            "grid_auto_rows": null,
            "grid_gap": null,
            "max_width": null,
            "order": null,
            "_view_module_version": "1.2.0",
            "grid_template_areas": null,
            "object_position": null,
            "object_fit": null,
            "grid_auto_columns": null,
            "margin": null,
            "display": null,
            "left": null
          }
        },
        "2c0ce0170ced41bd9368b5c62edfd213": {
          "model_module": "@jupyter-widgets/controls",
          "model_name": "FloatSliderModel",
          "model_module_version": "1.5.0",
          "state": {
            "_view_name": "FloatSliderView",
            "style": "IPY_MODEL_8928d6b2643e4145be44c05c45a51291",
            "_dom_classes": [],
            "description": "m",
            "step": 0.1,
            "_model_name": "FloatSliderModel",
            "orientation": "horizontal",
            "max": 2,
            "_view_module": "@jupyter-widgets/controls",
            "_model_module_version": "1.5.0",
            "value": 0,
            "_view_count": null,
            "disabled": false,
            "_view_module_version": "1.5.0",
            "min": -2,
            "continuous_update": true,
            "readout_format": ".2f",
            "description_tooltip": null,
            "readout": true,
            "_model_module": "@jupyter-widgets/controls",
            "layout": "IPY_MODEL_da9a41c2537c4c7b974fd9c7b768aba5"
          }
        },
        "c608547e5ef74e11b09f463f6787ec3d": {
          "model_module": "@jupyter-widgets/controls",
          "model_name": "FloatSliderModel",
          "model_module_version": "1.5.0",
          "state": {
            "_view_name": "FloatSliderView",
            "style": "IPY_MODEL_dfc6d74a9cd945c88f7bacf3e07aeac4",
            "_dom_classes": [],
            "description": "b",
            "step": 0.5,
            "_model_name": "FloatSliderModel",
            "orientation": "horizontal",
            "max": 3,
            "_view_module": "@jupyter-widgets/controls",
            "_model_module_version": "1.5.0",
            "value": 0,
            "_view_count": null,
            "disabled": false,
            "_view_module_version": "1.5.0",
            "min": -3,
            "continuous_update": true,
            "readout_format": ".2f",
            "description_tooltip": null,
            "readout": true,
            "_model_module": "@jupyter-widgets/controls",
            "layout": "IPY_MODEL_c6a14da73d584355ac1685313834c73c"
          }
        },
        "5580489d24fc484c993a86ab9e4f71b6": {
          "model_module": "@jupyter-widgets/output",
          "model_name": "OutputModel",
          "model_module_version": "1.0.0",
          "state": {
            "_view_name": "OutputView",
            "msg_id": "",
            "_dom_classes": [],
            "_model_name": "OutputModel",
            "outputs": [
              {
                "output_type": "display_data",
                "data": {
                  "image/png": "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\n",
                  "text/plain": "<Figure size 432x288 with 1 Axes>"
                },
                "metadata": {
                  "needs_background": "light"
                }
              }
            ],
            "_view_module": "@jupyter-widgets/output",
            "_model_module_version": "1.0.0",
            "_view_count": null,
            "_view_module_version": "1.0.0",
            "layout": "IPY_MODEL_84e1d7a02c0c470fb74d69ebd629ad3c",
            "_model_module": "@jupyter-widgets/output"
          }
        },
        "8928d6b2643e4145be44c05c45a51291": {
          "model_module": "@jupyter-widgets/controls",
          "model_name": "SliderStyleModel",
          "model_module_version": "1.5.0",
          "state": {
            "_view_name": "StyleView",
            "handle_color": null,
            "_model_name": "SliderStyleModel",
            "description_width": "",
            "_view_module": "@jupyter-widgets/base",
            "_model_module_version": "1.5.0",
            "_view_count": null,
            "_view_module_version": "1.2.0",
            "_model_module": "@jupyter-widgets/controls"
          }
        },
        "da9a41c2537c4c7b974fd9c7b768aba5": {
          "model_module": "@jupyter-widgets/base",
          "model_name": "LayoutModel",
          "model_module_version": "1.2.0",
          "state": {
            "_view_name": "LayoutView",
            "grid_template_rows": null,
            "right": null,
            "justify_content": null,
            "_view_module": "@jupyter-widgets/base",
            "overflow": null,
            "_model_module_version": "1.2.0",
            "_view_count": null,
            "flex_flow": null,
            "width": null,
            "min_width": null,
            "border": null,
            "align_items": null,
            "bottom": null,
            "_model_module": "@jupyter-widgets/base",
            "top": null,
            "grid_column": null,
            "overflow_y": null,
            "overflow_x": null,
            "grid_auto_flow": null,
            "grid_area": null,
            "grid_template_columns": null,
            "flex": null,
            "_model_name": "LayoutModel",
            "justify_items": null,
            "grid_row": null,
            "max_height": null,
            "align_content": null,
            "visibility": null,
            "align_self": null,
            "height": null,
            "min_height": null,
            "padding": null,
            "grid_auto_rows": null,
            "grid_gap": null,
            "max_width": null,
            "order": null,
            "_view_module_version": "1.2.0",
            "grid_template_areas": null,
            "object_position": null,
            "object_fit": null,
            "grid_auto_columns": null,
            "margin": null,
            "display": null,
            "left": null
          }
        },
        "dfc6d74a9cd945c88f7bacf3e07aeac4": {
          "model_module": "@jupyter-widgets/controls",
          "model_name": "SliderStyleModel",
          "model_module_version": "1.5.0",
          "state": {
            "_view_name": "StyleView",
            "handle_color": null,
            "_model_name": "SliderStyleModel",
            "description_width": "",
            "_view_module": "@jupyter-widgets/base",
            "_model_module_version": "1.5.0",
            "_view_count": null,
            "_view_module_version": "1.2.0",
            "_model_module": "@jupyter-widgets/controls"
          }
        },
        "c6a14da73d584355ac1685313834c73c": {
          "model_module": "@jupyter-widgets/base",
          "model_name": "LayoutModel",
          "model_module_version": "1.2.0",
          "state": {
            "_view_name": "LayoutView",
            "grid_template_rows": null,
            "right": null,
            "justify_content": null,
            "_view_module": "@jupyter-widgets/base",
            "overflow": null,
            "_model_module_version": "1.2.0",
            "_view_count": null,
            "flex_flow": null,
            "width": null,
            "min_width": null,
            "border": null,
            "align_items": null,
            "bottom": null,
            "_model_module": "@jupyter-widgets/base",
            "top": null,
            "grid_column": null,
            "overflow_y": null,
            "overflow_x": null,
            "grid_auto_flow": null,
            "grid_area": null,
            "grid_template_columns": null,
            "flex": null,
            "_model_name": "LayoutModel",
            "justify_items": null,
            "grid_row": null,
            "max_height": null,
            "align_content": null,
            "visibility": null,
            "align_self": null,
            "height": null,
            "min_height": null,
            "padding": null,
            "grid_auto_rows": null,
            "grid_gap": null,
            "max_width": null,
            "order": null,
            "_view_module_version": "1.2.0",
            "grid_template_areas": null,
            "object_position": null,
            "object_fit": null,
            "grid_auto_columns": null,
            "margin": null,
            "display": null,
            "left": null
          }
        },
        "84e1d7a02c0c470fb74d69ebd629ad3c": {
          "model_module": "@jupyter-widgets/base",
          "model_name": "LayoutModel",
          "model_module_version": "1.2.0",
          "state": {
            "_view_name": "LayoutView",
            "grid_template_rows": null,
            "right": null,
            "justify_content": null,
            "_view_module": "@jupyter-widgets/base",
            "overflow": null,
            "_model_module_version": "1.2.0",
            "_view_count": null,
            "flex_flow": null,
            "width": null,
            "min_width": null,
            "border": null,
            "align_items": null,
            "bottom": null,
            "_model_module": "@jupyter-widgets/base",
            "top": null,
            "grid_column": null,
            "overflow_y": null,
            "overflow_x": null,
            "grid_auto_flow": null,
            "grid_area": null,
            "grid_template_columns": null,
            "flex": null,
            "_model_name": "LayoutModel",
            "justify_items": null,
            "grid_row": null,
            "max_height": null,
            "align_content": null,
            "visibility": null,
            "align_self": null,
            "height": "350px",
            "min_height": null,
            "padding": null,
            "grid_auto_rows": null,
            "grid_gap": null,
            "max_width": null,
            "order": null,
            "_view_module_version": "1.2.0",
            "grid_template_areas": null,
            "object_position": null,
            "object_fit": null,
            "grid_auto_columns": null,
            "margin": null,
            "display": null,
            "left": null
          }
        }
      }
    }
  },
  "cells": [
    {
      "cell_type": "markdown",
      "metadata": {
        "id": "view-in-github",
        "colab_type": "text"
      },
      "source": [
        "<a href=\"https://colab.research.google.com/github/rk1973unsl/notebooks/blob/main/sinusoidal_interactivo.ipynb\" target=\"_parent\"><img src=\"https://colab.research.google.com/assets/colab-badge.svg\" alt=\"Open In Colab\"/></a>"
      ]
    },
    {
      "cell_type": "markdown",
      "metadata": {
        "id": "YFRk1SC9Mho5"
      },
      "source": [
        "## Definiciones de código\n",
        "ejecutar las proximas celdas antes que las próximas secciones"
      ]
    },
    {
      "cell_type": "code",
      "metadata": {
        "id": "zQ73iaHNByXN"
      },
      "source": [
        "#@title Importar Bilioteca de Ploteo\n",
        "import numpy as np\n",
        "import matplotlib.pyplot as plt\n",
        "%matplotlib inline"
      ],
      "execution_count": null,
      "outputs": []
    },
    {
      "cell_type": "code",
      "metadata": {
        "id": "ejqnwvvVPb8u"
      },
      "source": [
        "#@title Importar Biblioteca de Audio\n",
        "from IPython.display import Audio\n",
        "from scipy.io import wavfile\n",
        "from io import BytesIO"
      ],
      "execution_count": null,
      "outputs": []
    },
    {
      "cell_type": "code",
      "metadata": {
        "id": "K0GBc2PZPb89"
      },
      "source": [
        "#@title Importar Biblioteca Interact\n",
        "from __future__ import print_function\n",
        "from ipywidgets import interact, interactive, fixed, interact_manual\n",
        "import ipywidgets as widgets"
      ],
      "execution_count": null,
      "outputs": []
    },
    {
      "cell_type": "code",
      "metadata": {
        "id": "IL9sQb8KPb9K"
      },
      "source": [
        "#@title Definir funciones auxiliares\n",
        "def normalizar(x):\n",
        "  '''\n",
        "    reescala los valores de entrada de manera que los valores\n",
        "    de salida esten entre 0 y 1\n",
        "  '''\n",
        "  xn=x-min(x)\n",
        "  xn=xn/max(xn)\n",
        "  return xn\n",
        "\n",
        "\n",
        "def normalizarb(x):\n",
        "  '''\n",
        "     reescala los valores de entrada de manera que los\n",
        "     valores de salida esten entre -1 y 1\n",
        "  '''\n",
        "  xn=2*normalizar(x)-1\n",
        "  return xn\n",
        "\n",
        "def graft(x,fs,xlim):\n",
        "    '''\n",
        "       grafica en el dominio del tiempo\n",
        "       primer argumento, arreglo de valores de la funcion en el tiempo\n",
        "       tercer argumento, periodo a muestrear [t_inicial, t_final]\n",
        "       segundo argumento, frecuencia de muestreo\n",
        "    '''\n",
        "    tmax = len(x)/fs\n",
        "    t = np.arange(0, tmax, step=1. / fs)\n",
        "    plt.plot(t, x)\n",
        "    plt.xlim(xlim)\n",
        "    plt.xlabel(\"Tiempo (s)\")\n",
        "    plt.ylabel(\"Amplitud\")\n",
        "\n",
        "\n",
        "def graff1l(x,fs):\n",
        "    '''\n",
        "       grafica en el dominio de la frecuencia, espectro de un lado\n",
        "       primer argumento, arreglo de valores de la funcion en el tiempo\n",
        "       segundo argumento, frecuencia de muestreo\n",
        "       entrega componentes en frecuencia (nros. complejos)\n",
        "    '''\n",
        "    N = len(x)\n",
        "    X=np.fft.fft(x)/N\n",
        "    freqs = np.arange(0, fs / 2, step=fs / N)\n",
        "    plt.plot(freqs[:(N // 2)], 2*np.abs(X[:(N // 2)]))\n",
        "    plt.xlabel(\"Frequencia (Hz)\")\n",
        "    plt.ylabel(\"Amplitud\")\n",
        "    return X\n",
        "\n",
        "def graff2l(x,fs):\n",
        "    '''\n",
        "       grafica en el dominio de la frecuencia, espectro de dos lados\n",
        "       primer argumento, arreglo de valores de la funcion en el tiempo\n",
        "       segundo argumento, frecuencia de muestreo\n",
        "       entrega componentes en frecuencia (nros. complejos)\n",
        "    '''\n",
        "    N = len(x)\n",
        "    X = np.fft.fft(x)/N\n",
        "    # Plot the positive frequencies.\n",
        "    freqsp = np.arange(0, fs / 2, step=fs / N)\n",
        "    plt.plot(freqsp, np.abs(X[:(N // 2)]))\n",
        "    # Plot the negative frequencies.\n",
        "    freqsn = np.arange(-fs / 2, 0, step=fs / N)\n",
        "    plt.plot(freqsn, np.abs(X[(N // 2):]))\n",
        "    # Now we can label the x-axis.\n",
        "    plt.xlabel(\"Frequencia (Hz)\")\n",
        "    plt.ylabel(\"Amplitud\")\n",
        "    return X\n",
        "\n",
        "def graff1lp(x,fs):\n",
        "    '''\n",
        "       grafica en el dominio de la frecuencia, espectro de un lado de potencias\n",
        "       primer argumento, arreglo de valores de la funcion en el tiempo\n",
        "       segundo argumento, frecuencia de muestreo\n",
        "       entrega componentes en frecuencia (nros. complejos)\n",
        "    '''\n",
        "    N = len(x)\n",
        "    X=np.fft.fft(x)/N\n",
        "    X_p = np.abs(X) ** 2\n",
        "    freqs = np.arange(0, fs / 2, step=fs / N)\n",
        "    plt.plot(freqs[:(N // 2)], (X_p[:(N // 2)]))\n",
        "    plt.xlabel(\"Frequencia (Hz)\")\n",
        "    plt.ylabel(\"Potencia\")\n",
        "    return X\n",
        "  \n",
        "def graff2lp(x,fs):\n",
        "    '''\n",
        "       grafica en el dominio de la frecuencia, espectro de dos lados de potencias\n",
        "       primer argumento, arreglo de valores de la funcion en el tiempo\n",
        "       segundo argumento, frecuencia de muestreo\n",
        "    '''\n",
        "    N = len(x)\n",
        "    X = np.fft.fft(x)/N\n",
        "    X_p = np.abs(X)**2\n",
        "    # Plot the positive frequencies.\n",
        "    freqsp = np.arange(0, fs / 2, step=fs / N)\n",
        "    plt.plot(freqsp, X_p[:(N // 2)])\n",
        "    # Plot the negative frequencies.\n",
        "    freqsn = np.arange(-fs / 2, 0, step=fs / N)\n",
        "    plt.plot(freqsn, X_p[(N // 2):])\n",
        "    # Now we can label the x-axis.\n",
        "    plt.xlabel(\"Frequencia (Hz)\")\n",
        "    plt.ylabel(\"Amplitud\")\n",
        "    return X\n",
        "\n",
        "def espectro(x,fs):\n",
        "    '''\n",
        "       grafica en el dominio de la frecuencia, espectro de dos lados de potencias en escala logaritmica\n",
        "       primer argumento, arreglo de valores de la funcion en el tiempo\n",
        "       segundo argumento, frecuencia de muestreo\n",
        "    '''\n",
        "    N = len(x)\n",
        "    X = np.fft.fft(x)/N\n",
        "    X_pl = np.log(np.abs(X)**2)\n",
        "    # Plot the positive frequencies.\n",
        "    freqsp = np.arange(0, fs / 2, step=fs / N)\n",
        "    plt.plot(freqsp, X_pl[:(N // 2)])\n",
        "    # Plot the negative frequencies.\n",
        "    freqsn = np.arange(-fs / 2, 0, step=fs / N)\n",
        "    plt.plot(freqsn, X_pl[(N // 2):])\n",
        "    # Now we can label the x-axis.\n",
        "    plt.xlabel(\"Frequencia (Hz)\")\n",
        "    plt.ylabel(\"Amplitud (log)\")\n",
        "    return X"
      ],
      "execution_count": null,
      "outputs": []
    },
    {
      "cell_type": "markdown",
      "metadata": {
        "id": "iyCDnTsL0FvG"
      },
      "source": [
        "# Tutorial de controles interactivos (se puede saltar)\n",
        "\n",
        "---\n",
        "\n"
      ]
    },
    {
      "cell_type": "markdown",
      "metadata": {
        "id": "9MG3Ih_x3-AW"
      },
      "source": [
        "## Interacción dinámica\n",
        "Intentamos ahora modificar interactivamente los parametros de la sinusoidal. Primero analizamos brevemente el uso de la biblioteca Interact.\n",
        "\n",
        "(la explicacion del uso de los objetos interactivos original esta en ingles acá: https://colab.research.google.com/github/jupyter-widgets/ipywidgets/blob/master/docs/source/examples/Using%20Interact.ipynb )"
      ]
    },
    {
      "cell_type": "markdown",
      "metadata": {
        "id": "5yKHuBfMPD26"
      },
      "source": [
        "La función `interact`  (`ipywidgets.interact`) crea automaticamente los controles de interfaz de usuario (UI) para explorar código y datos de manetra interactiva."
      ]
    },
    {
      "cell_type": "code",
      "metadata": {
        "id": "cI-cH6lqPD3A"
      },
      "source": [
        "from __future__ import print_function\n",
        "from ipywidgets import interact, interactive, fixed, interact_manual\n",
        "import ipywidgets as widgets"
      ],
      "execution_count": null,
      "outputs": []
    },
    {
      "cell_type": "markdown",
      "metadata": {
        "id": "EuBQ_kb5PD4P"
      },
      "source": [
        "##  `interact` básico"
      ]
    },
    {
      "cell_type": "markdown",
      "metadata": {
        "id": "gAI5CZq6PD4T"
      },
      "source": [
        "En el nivel mas básico, `interact` autogenera los controles UI para los argumentos de funciones, y luego llama a la función con estos argumentos cuando manipulamos interactivamente estos los controles.\n",
        "\n",
        "Para utilizar `interact`, es necesario definir la función que queremos explorar.\n",
        "Aqui tenemos una funcion sinusoidal"
      ]
    },
    {
      "cell_type": "code",
      "metadata": {
        "id": "lzBKXFP6PD4W"
      },
      "source": [
        "def sinus(a,f,p,tmax=5,fs=8000):\n",
        "    '''\n",
        "    a - amplitud [adimencional]\n",
        "    f - frecuencia [Hz]\n",
        "    p - fase [radianes]\n",
        "    fs- frecuencia de muestreo [Hz]\n",
        "    '''\n",
        "    t = np.arange(0, tmax, step=1. / fs)\n",
        "    x = a*np.sin(2 * np.pi * f * t +p) ################ Aquí se modifica la frecuencia de la señal\n",
        "    plt.plot(t, x)\n",
        "    #plt.xlim(0, .01)\n",
        "    return x, t"
      ],
      "execution_count": null,
      "outputs": []
    },
    {
      "cell_type": "markdown",
      "metadata": {
        "id": "wMo5g8ulPD47"
      },
      "source": [
        "Cuando se pasa esta función como el primer argumento de `interact`, junto con un argumento clave de valor entero (`x=10`), se genera un deslizador enlazado al parametro de la función."
      ]
    },
    {
      "cell_type": "code",
      "metadata": {
        "id": "_RneCN4OPD4-",
        "colab": {
          "base_uri": "https://localhost:8080/",
          "referenced_widgets": [
            "4683e85da3cb483da166549756c51793",
            "17903712e8f14b20bb0e16ba48d99edb",
            "7fe70179d46c4fc18236fc56b66591f3",
            "b85f06e2cce44f4ea4623391a2c7fc10",
            "6fab2b3fc4a842268f24c00592458182",
            "707e17ef2bec4d8f9d7248773975bb9d",
            "14b2bd818c4544a287eb6cec8225c024",
            "26e95566265440a1bd6a64dff059eb13",
            "216ebcbd20574ebdbb4d09bbef822505",
            "b7103a2674434c8c83f57c675ab484a1",
            "89cd112940c1487584a974e62b161448",
            "dc5cf4500f3e4fd9b107663d12ce6df9",
            "5a6511bc807540de904a69fab1db39fe",
            "31a3af2c1f2d45009d8b23ce2ddae536",
            "3f1bedb5e7fa4651beb11ba2a7153c4e",
            "568fa8806e5a41c584d49a53ba4ea133",
            "b752230ab16b4745a6f8a0eb6b3948c8",
            "8e08ec2dd2594bd2a20142f6331be482",
            "8648f273d81747d0972580c466227ff8"
          ]
        },
        "outputId": "7b69dcbd-0da7-465b-f446-1d81505068b7"
      },
      "source": [
        "interact(sinus, a=10,f=440, p=0.);"
      ],
      "execution_count": null,
      "outputs": [
        {
          "output_type": "display_data",
          "data": {
            "application/vnd.jupyter.widget-view+json": {
              "model_id": "4683e85da3cb483da166549756c51793",
              "version_minor": 0,
              "version_major": 2
            },
            "text/plain": [
              "interactive(children=(IntSlider(value=10, description='a', max=30, min=-10), IntSlider(value=440, description=…"
            ]
          },
          "metadata": {}
        }
      ]
    },
    {
      "cell_type": "markdown",
      "metadata": {
        "id": "zlPYDkGdPD5Z"
      },
      "source": [
        "Cuando se mueve el control deslizante, se llama la función y su valor resultante se imprime. \n",
        "\n",
        "Si se le pasa `True` o `False`, `interact` genera una casilla de verificación:"
      ]
    },
    {
      "cell_type": "markdown",
      "metadata": {
        "id": "Uova4PkdPD54"
      },
      "source": [
        "Si se le pasa una cadena de caracteres,   `interact` genera una caja de texto."
      ]
    },
    {
      "cell_type": "markdown",
      "metadata": {
        "id": "KCczxfvKPD6M"
      },
      "source": [
        "También se puede usar `interact` como decorador (concepto bastante extraño propio de Python, ver https://recursospython.com/guias-y-manuales/decoradores/).\n",
        "Esto permite definir una función e interactuar con ella al mismo tiempo. En este ejemplo `interact` trabaja con funciones de multiples argumentos."
      ]
    },
    {
      "cell_type": "code",
      "metadata": {
        "id": "OuKSxOV8PD6O",
        "colab": {
          "base_uri": "https://localhost:8080/",
          "referenced_widgets": [
            "a6d032049fc04f8081d9e7b33a22ef2c",
            "94e348265df54db7bc1a86ff50012a8d",
            "2058a59f58554cd79bcf3321ea6dbe72",
            "55ec1d4de6c04b2799cdbc5c61ae76de",
            "1d46157029674e2e9ca67941a7741488",
            "ce9f33da6ef54c15aeb2337bb7e5f4c7",
            "3a1d999588fe40ae8c15117825ac29a7",
            "1b22da1be8fa4292adadf6efcfaa93b6",
            "6fdbcb992f044f009c131969913b8209",
            "0976091d35c44553a3ae3ad478087ce3",
            "54762a37cc1a43aeabe4758c350069a7",
            "2d1110a8a1ac42b4b70a7a1c8dabb5bf",
            "0b9d1ee51cec49d7a92ed4e8117a5d7d"
          ]
        },
        "outputId": "ce134c46-5bd9-4310-9d04-581647aa0132"
      },
      "source": [
        "@interact(x=True, y=1.0,z='pepe')\n",
        "def g(x, y, z):\n",
        "    return (x, y, z)"
      ],
      "execution_count": null,
      "outputs": [
        {
          "output_type": "display_data",
          "data": {
            "application/vnd.jupyter.widget-view+json": {
              "model_id": "a6d032049fc04f8081d9e7b33a22ef2c",
              "version_minor": 0,
              "version_major": 2
            },
            "text/plain": [
              "interactive(children=(Checkbox(value=True, description='x'), FloatSlider(value=1.0, description='y', max=3.0, …"
            ]
          },
          "metadata": {}
        }
      ]
    },
    {
      "cell_type": "markdown",
      "metadata": {
        "id": "lmqwuYw8PD6h"
      },
      "source": [
        "## Fijando el valor de argumentos con `fixed`"
      ]
    },
    {
      "cell_type": "markdown",
      "metadata": {
        "id": "5mU0jEGKPD6i"
      },
      "source": [
        "Hay ocasiones en las que se requiere explorar una función `interact`, pero manteniendo uno o mas de sus argumentos en valores especificos. esto se puede lograr pasando valores con la funcion `fixed()`"
      ]
    },
    {
      "cell_type": "code",
      "metadata": {
        "id": "64TMqcghPD69",
        "colab": {
          "base_uri": "https://localhost:8080/",
          "referenced_widgets": [
            "a0250c35f2144b0d9457c4302d0eddc7",
            "4a3d04a23c3342e1829004ee24e6add9",
            "27dd4a71e248401f9246ffcff6a783bb",
            "d4300c91c4c94d94a8bca047b3981f89",
            "156349d7016d4ecfa297827335917285",
            "c34a64e3cd2c4712ad6aa04bf06e9a76",
            "5a192650dee6490e9c7bde56fb7d154c",
            "3dfcb093fcff417dbbded75b9fa4fe8d",
            "44c4c388062c47fb97aa3ff694eb101f",
            "151ccec0942b4f92b77bc211e0f27978",
            "d93838fb57e544b882523a44fb6d86d4",
            "cc968092a5bf4d3cb3b7a0cca33f1405",
            "115de837784942cb98884b40a6972f67"
          ]
        },
        "outputId": "056827ef-05b6-4354-8671-3c585a838034"
      },
      "source": [
        "interact(sinus, a=10,f=fixed(440), p=fixed(0.));"
      ],
      "execution_count": null,
      "outputs": [
        {
          "output_type": "display_data",
          "data": {
            "application/vnd.jupyter.widget-view+json": {
              "model_id": "a0250c35f2144b0d9457c4302d0eddc7",
              "version_minor": 0,
              "version_major": 2
            },
            "text/plain": [
              "interactive(children=(IntSlider(value=10, description='a', max=30, min=-10), IntSlider(value=5, description='t…"
            ]
          },
          "metadata": {}
        }
      ]
    },
    {
      "cell_type": "markdown",
      "metadata": {
        "id": "SnwWuYHLPD7J"
      },
      "source": [
        "En este caso solo se genera un control deslizante para el argumento **a**, ya que **f** y **p** estan fijos. Esto sirve para manipular algunas variables y dejar otras fijas sin tener que declarar funciones nuevas. Se define una funcion con multiples argumentos, pero se interactua solo con algunos de estos argumentos. aparecen los deslizadores de los argumentos no declarados pero implicitos **tmax** y **fs**, si quisieramos ocultarlos deberiamos declararlos explicitamente fixed()\n"
      ]
    },
    {
      "cell_type": "markdown",
      "metadata": {
        "id": "luUjjhFBPD7i"
      },
      "source": [
        "## Widget abreviados"
      ]
    },
    {
      "cell_type": "markdown",
      "metadata": {
        "id": "o9EBN3f7PD7n"
      },
      "source": [
        "Cuando se le pasa un argumento entero con un valor de `10` (`x=10`) a `interact`, se genera un control deslizante de valor entero en un rango de `[-10,+3*10]`. en este caso `10` es una *abreviatura* del widget deslizante real:\n",
        "\n",
        "```python\n",
        "IntSlider(min=-10, max=30, step=1, value=10)\n",
        "```\n",
        "\n",
        "De hecho, se puede obtener el mismo resultado si se pasa  `IntSlider` y sus detalles como el argumento clave para `x`:"
      ]
    },
    {
      "cell_type": "markdown",
      "metadata": {
        "id": "jwWMUDJQPD8J"
      },
      "source": [
        "La siguiente tabla resume los diferentes tipos de argumentos y como se mapean a controles interactivos:\n",
        "\n",
        "\n",
        "|Argumentos clave|Widget|\n",
        "|-------|:--------|\n",
        "|`True` o `False`|Checkbox|\n",
        "|text|`'Hola Mundo'`|\n",
        "|`valor` o `(min,max)` o `(min,max,step)` enteros|IntSlider|\n",
        "|`valor` o `(min,max)` o `(min,max,step)` flotantes|FloatSlider|\n",
        "|`['orange','apple']` o `[('one', 1), ('two', 2)]|Menú desplegable|\n",
        "\n",
        "\n",
        "Nótese que se usa un menu desplegable si se pasa un diccionario o una lista de tuples (elección discreta de valores significativos) o un deslizador si se le entrega una tupla (significando un rango)."
      ]
    },
    {
      "cell_type": "markdown",
      "metadata": {
        "id": "WZ8byh5QPD8M"
      },
      "source": [
        "Ya se vio antes como trabajan la caja de texto y la caja de verificación.  Aquí se dan más detalles sobre las diferentes abreviaturas de los deslizadores y desplegables.\n",
        "\n",
        "Si se pasa un par (2-tuple) de números enteros `(min, max)`, se produce un deslizador con valor de número entero con esos valores mínimos y máximos (inclusive). En este caso, se utiliza el tamaño de paso por defecto de `1`."
      ]
    },
    {
      "cell_type": "markdown",
      "metadata": {
        "id": "4TAQo0KePD8h"
      },
      "source": [
        "Si se pasa una 3-tupla de números enteros `(min,max,paso)`, el tamaño del paso también se puede establecer."
      ]
    },
    {
      "cell_type": "code",
      "metadata": {
        "id": "rjNPapOpPD8P",
        "colab": {
          "base_uri": "https://localhost:8080/",
          "referenced_widgets": [
            "ca0f6338d2f640168f0000045cbe31f9",
            "d7bc9c62914c4564be50095e60cd71a0",
            "21d702817ea149479d9003c18c2ee3dd",
            "f378dcd989054b93b7d124ab0f426e58",
            "32b6a8ce3220436c8e7460915b8ff9a6",
            "cf4fd2311e6d4c28ba334658d39113d3",
            "a5c13fcd61a74af084bd54ad0608e97d",
            "741a007bf69f438ba1b276e89946fbcd",
            "7d1a752fa5334aadbd18a4719ec427e3",
            "80560d7213c741bea14971ca7b096383",
            "1b9db8d6d1a14b86bb86ee9562bdedc7",
            "22111a15f14c477ebcf7026f0b5e94a0",
            "d64583cfda9f4defa0005ce0a7ffcefd"
          ]
        },
        "outputId": "5de6f4d0-23d2-4c56-adaf-7a966d3fd410"
      },
      "source": [
        "interact(sinus, a=(0,2.),f=(100,2000,100), p=fixed(0.),tmax=fixed(.01));"
      ],
      "execution_count": null,
      "outputs": [
        {
          "output_type": "display_data",
          "data": {
            "application/vnd.jupyter.widget-view+json": {
              "model_id": "ca0f6338d2f640168f0000045cbe31f9",
              "version_minor": 0,
              "version_major": 2
            },
            "text/plain": [
              "interactive(children=(FloatSlider(value=1.0, description='a', max=2.0), IntSlider(value=1000, description='f',…"
            ]
          },
          "metadata": {}
        }
      ]
    },
    {
      "cell_type": "markdown",
      "metadata": {
        "id": "T6zG896GPD8z"
      },
      "source": [
        "Se produce un deslizador con valores pflotantes *cualquiera* de los elementos de las tuplas son flotantes. Aquí el mínimo es \"0.0\", el máximo es \"10.0\" y el tamaño del paso es \"0.1\" (por defecto)."
      ]
    },
    {
      "cell_type": "markdown",
      "metadata": {
        "id": "RRJZ-6k1PD9m"
      },
      "source": [
        "Tanto para los deslizadores de valor entero como de valor flotante, se puede elegir el valor inicial del widget pasando un argumento de palabra clave por defecto a la función Python subyacente. Aquí se establece el valor inicial de un deslizador de valor flotante en \"5.5\"."
      ]
    },
    {
      "cell_type": "markdown",
      "metadata": {
        "id": "RjHlEQzDPD90"
      },
      "source": [
        "Los menús desplegables se construyen pasando una lista de cadenas. En este caso, las cadenas se utilizan como nombres en el menú desplegable UI y se pasan a la función Python subyacente."
      ]
    },
    {
      "cell_type": "markdown",
      "metadata": {
        "id": "FdE9za--PD-P"
      },
      "source": [
        "Si se necesita un menú desplegable que pase valores relacionados con cadenas, a la función Python, puede pasar una lista de pares `('label', valor)`. Los primeros elementos son los nombres en el menú desplegable y los segundos elementos son los valores que son los argumentos pasados a la función Python subyacente."
      ]
    },
    {
      "cell_type": "markdown",
      "metadata": {
        "id": "gHI7Zsc9PD-e"
      },
      "source": [
        "Finalmente, si se necesita un control más granular que el que ofrece la abreviatura, se puede pasar una instancia de \"ValueWidget\" como argumento.\n",
        "\n",
        "Un \"ValueWidget\" es un widget que pretende controlar un único valor. La mayoría de los widgets [empaquetados con ipywidgets](Widget%20List) heredan de `ValueWidget`. Para más información, vea [esta sección](Widget%20Custom.ipynb#DOMWidget,-ValueWidget-yWidget) sobre los tipos de widgets."
      ]
    },
    {
      "cell_type": "markdown",
      "metadata": {
        "id": "sBUs5wBPPD-v"
      },
      "source": [
        "## función `interactive`"
      ]
    },
    {
      "cell_type": "markdown",
      "metadata": {
        "id": "iEQ2UZSoPD-z"
      },
      "source": [
        "Además de `interact`, IPython proporciona otra función, `interactive`, que es útil cuando se quiere reutilizar los widgets que se producen o acceder a los datos que están vinculados a los controles de la interfaz de usuario.\n",
        "\n",
        "Tenga en cuenta que a diferencia de `interact`, el valor de retorno de la función no se mostrará automáticamente, pero puede mostrar un valor dentro de la función con `IPython.display.display`"
      ]
    },
    {
      "cell_type": "markdown",
      "metadata": {
        "id": "HX2Y7oDWPD-1"
      },
      "source": [
        "Aquí se define una función f() que muestra la suma de sus dos argumentos y devuelve la suma. La línea `display` se puede omitir si no se quiere mostrar el resultado de la función.\n",
        "\n"
      ]
    },
    {
      "cell_type": "code",
      "metadata": {
        "id": "4GzKb1UIPD-4"
      },
      "source": [
        "from IPython.display import display\n",
        "def f(a, b):\n",
        "    display(a + b)\n",
        "    return a+b"
      ],
      "execution_count": null,
      "outputs": []
    },
    {
      "cell_type": "markdown",
      "metadata": {
        "id": "ZFwo51OfPEAN"
      },
      "source": [
        "Hasta aquí, los controles de la interfaz de usuario funcionan como si se hubiera usado `interact`. Se pueden manipular interactivamente y la función será llamada. Sin embargo, la instancia del widget devuelta por `interactive` también te da acceso a los argumentos de la palabra clave actual y devuelve el valor de la función Python subyacente. Es decir que se puede acceder a los valores de los deslizadores mediante código.\n",
        "\n",
        "Aquí están los argumentos actuales de las palabras clave. Si se vuelve a ejecutar esta celda luego de modificar los controles, los valores se actualizarán. "
      ]
    },
    {
      "cell_type": "markdown",
      "metadata": {
        "id": "cuzGU2VwPEA4"
      },
      "source": [
        "## Desabilitando la actualización contante"
      ]
    },
    {
      "cell_type": "markdown",
      "metadata": {
        "id": "HIn5CxjRPEA9"
      },
      "source": [
        "Cuando se interactúa con funciones lentas, la retroalimentación en tiempo real es una carga en lugar de ser útil.  Véase el siguiente ejemplo:"
      ]
    },
    {
      "cell_type": "code",
      "metadata": {
        "id": "BwuaAnKiPEA_"
      },
      "source": [
        "def slow_function(i):\n",
        "    print(int(i),list(x for x in range(int(i)) if \n",
        "                str(x)==str(x)[::-1] and \n",
        "                str(x**2)==str(x**2)[::-1]))\n",
        "    return"
      ],
      "execution_count": null,
      "outputs": []
    },
    {
      "cell_type": "code",
      "metadata": {
        "id": "pvYbyjZuPEBN",
        "colab": {
          "base_uri": "https://localhost:8080/"
        },
        "outputId": "76de8bc7-d64f-44b8-e628-312055ff906b"
      },
      "source": [
        "%%time\n",
        "slow_function(1e6)"
      ],
      "execution_count": null,
      "outputs": [
        {
          "output_type": "stream",
          "name": "stdout",
          "text": [
            "1000000 [0, 1, 2, 3, 11, 22, 101, 111, 121, 202, 212, 1001, 1111, 2002, 10001, 10101, 10201, 11011, 11111, 11211, 20002, 20102, 100001, 101101, 110011, 111111, 200002]\n",
            "CPU times: user 567 ms, sys: 988 µs, total: 568 ms\n",
            "Wall time: 580 ms\n"
          ]
        }
      ]
    },
    {
      "cell_type": "markdown",
      "metadata": {
        "id": "O_wR_u4nPEBg"
      },
      "source": [
        "Nótese que la salida se actualiza mientras se mueve el mouse en el deslizador. esto no es util para funciones lentas debido al retardo de ejecución:"
      ]
    },
    {
      "cell_type": "code",
      "metadata": {
        "id": "i-9YwvOCPEBm",
        "colab": {
          "base_uri": "https://localhost:8080/",
          "referenced_widgets": [
            "2298842751b64398a5d7de5b37ec5a8e",
            "5b933ecedc4c456c8ded47c31ed5d771",
            "f695fb54d4ec4a079e0b4784d2de5679",
            "77b669944b394dc391baf6c1fd70e4af",
            "d2c8f0097c1a49a2820d750a37a64bfb",
            "5c531782b58843b6aa092f941ef43c3a",
            "c20c5cca6c3c488d806abcff68a89ec9"
          ]
        },
        "outputId": "d683b4f4-1b15-4395-fb0d-19d3124a8a2e"
      },
      "source": [
        "from ipywidgets import FloatSlider\n",
        "interact(slow_function,i=FloatSlider(min=1e5, max=1e7, step=1e5));"
      ],
      "execution_count": null,
      "outputs": [
        {
          "output_type": "display_data",
          "data": {
            "application/vnd.jupyter.widget-view+json": {
              "model_id": "2298842751b64398a5d7de5b37ec5a8e",
              "version_minor": 0,
              "version_major": 2
            },
            "text/plain": [
              "interactive(children=(FloatSlider(value=100000.0, description='i', max=10000000.0, min=100000.0, step=100000.0…"
            ]
          },
          "metadata": {}
        }
      ]
    },
    {
      "cell_type": "markdown",
      "metadata": {
        "id": "SqQZLE_MPEB6"
      },
      "source": [
        "Hay dos formas de mitigar esto, o se ejecuta bajo demanda,  o se restringe la ejecución solo cuando se suelta el control (evento mouse-up)."
      ]
    },
    {
      "cell_type": "markdown",
      "metadata": {
        "id": "g9AlQii0PEB9"
      },
      "source": [
        "### Función `interact_manual`"
      ]
    },
    {
      "cell_type": "markdown",
      "metadata": {
        "id": "yhJakCSXPECA"
      },
      "source": [
        "La función `interact_manual` provee una variante de la interacción que permite restringir la ejecución de manera de realizarla bajo demanda. Se agrega un botón que permite disparar un evento de ejecución."
      ]
    },
    {
      "cell_type": "code",
      "metadata": {
        "id": "_pHO_hq_PECD",
        "colab": {
          "base_uri": "https://localhost:8080/",
          "referenced_widgets": [
            "7ee55e18cfa0451680d00b70543fb3ad",
            "443609b769304eee9f1284cf27306cb0",
            "f7a3e90f20b64950b41db83f17af5a69",
            "74ed4dbc3e5f45548b655db994fc87eb",
            "9150d9460f174bdab24e155b58d7cfb6",
            "d7dc7cf1c2f0438c9243199607f5abb1",
            "af3213443d114898849124e2b9b78869",
            "dfccc9541b564351aec5097c0e4ec261",
            "b2181358d2374abf8063d4923a3a82f1",
            "b7f20d246b83439eb823c80f28913bfe",
            "afbc3b1e239944ec8f6bb02770099a95",
            "ac3ae5d39b8a4a92a0c8cb56258cebf6",
            "c68ec1da0fec491ba9475479743ac738",
            "ef9282212fa54c37a9e978ace6195962",
            "ce88b49e73924dd19e7fafee5a6a29aa",
            "583d004f84344afcada6e194dbaaf026"
          ]
        },
        "outputId": "c78918c3-8220-4abc-fb30-e337aaaca01a"
      },
      "source": [
        "interact_manual(sinus, a=(0,2.),f=(100,2000,100), p=fixed(0.),tmax=fixed(.01));"
      ],
      "execution_count": null,
      "outputs": [
        {
          "output_type": "display_data",
          "data": {
            "application/vnd.jupyter.widget-view+json": {
              "model_id": "7ee55e18cfa0451680d00b70543fb3ad",
              "version_minor": 0,
              "version_major": 2
            },
            "text/plain": [
              "interactive(children=(FloatSlider(value=1.0, description='a', max=2.0), IntSlider(value=1000, description='f',…"
            ]
          },
          "metadata": {}
        }
      ]
    },
    {
      "cell_type": "markdown",
      "metadata": {
        "id": "AxKd5NtSPECY"
      },
      "source": [
        "Esto también se puede realizar con `interactive` utilizando un `dict` como segundo argumeto, tal como se muestra a continuación:"
      ]
    },
    {
      "cell_type": "code",
      "metadata": {
        "id": "KiPaWi2CPECd",
        "colab": {
          "base_uri": "https://localhost:8080/",
          "referenced_widgets": [
            "b662f0af86f54c00a9587336cbf3384b",
            "c35b5d3e231549c2aed51068752b9969",
            "dc0c3d7f26a74e8c844df3212022b4aa",
            "c1ccd9b129e2431a95acd87ac2ff119c",
            "5ee097bd5ac14668b5f6b1e4b6bde0e4",
            "ff40d02ec9e24316ab581b11f736f59a",
            "24b82fd333b9491dbbf99134f6be06e7",
            "aff724971e954af4ad33fc46477837f4",
            "c85cf928ffea4b4f9eff470327e20406",
            "7bb793c63cfb4644afba933b50a9f2e3"
          ]
        },
        "outputId": "b6764442-7133-44c4-cc59-2d16fca1076b"
      },
      "source": [
        "slow = interactive(slow_function, {'manual': True}, i=widgets.FloatSlider(min=1e4, max=1e6, step=1e4))\n",
        "slow"
      ],
      "execution_count": null,
      "outputs": [
        {
          "output_type": "display_data",
          "data": {
            "application/vnd.jupyter.widget-view+json": {
              "model_id": "b662f0af86f54c00a9587336cbf3384b",
              "version_minor": 0,
              "version_major": 2
            },
            "text/plain": [
              "interactive(children=(FloatSlider(value=10000.0, description='i', max=1000000.0, min=10000.0, step=10000.0), B…"
            ]
          },
          "metadata": {}
        }
      ]
    },
    {
      "cell_type": "markdown",
      "metadata": {
        "id": "oC6Bp0FCPECt"
      },
      "source": [
        "### `continuous_update`"
      ]
    },
    {
      "cell_type": "markdown",
      "metadata": {
        "id": "aIEXddA0PECw"
      },
      "source": [
        "Si se utilizan controles deslizantes, se puede poner el argumento de entrada `continuous_update` en `False`.\n",
        "\n",
        "`continuous_update` is a un argumento de entrada de los controles deslizantes que restringen la ejecución solo a los eventos de liberación de mouse (cuando se suelta el control deslizante)."
      ]
    },
    {
      "cell_type": "code",
      "metadata": {
        "id": "MigB9NwnPECy",
        "colab": {
          "base_uri": "https://localhost:8080/",
          "referenced_widgets": [
            "fc0454935e5e40bc8a1e43122ded1e03",
            "cb3a4a49828a44fc9d995dbeeaa42f8f",
            "363a9db06aad4cb5a4c4f39a56b02364",
            "f91c8a554de44effb27672b32f8defdf",
            "cb484783e77242c5b65c6e23067a29f9",
            "9c16c054df2341a3a1ccd0ec025b0db9",
            "52904718a14a49b2af7789e1a74c9a14"
          ]
        },
        "outputId": "d14db582-e676-47d4-abe6-34db1d5a8a20"
      },
      "source": [
        "interact(slow_function,i=FloatSlider(min=1e5, max=1e7, step=1e5, continuous_update=False));"
      ],
      "execution_count": null,
      "outputs": [
        {
          "output_type": "display_data",
          "data": {
            "application/vnd.jupyter.widget-view+json": {
              "model_id": "fc0454935e5e40bc8a1e43122ded1e03",
              "version_minor": 0,
              "version_major": 2
            },
            "text/plain": [
              "interactive(children=(FloatSlider(value=100000.0, continuous_update=False, description='i', max=10000000.0, mi…"
            ]
          },
          "metadata": {}
        }
      ]
    },
    {
      "cell_type": "markdown",
      "metadata": {
        "id": "5nCZbhPUPEC9"
      },
      "source": [
        "## Mas control sobre la intefaz de usuario: `interactive_output`\n",
        "\n",
        "`interactive_output` provee femas felxibilidad: se piede controlar como se distribuyen los elementros de control de interfaz de usuario.\n",
        "\n",
        "A diferencia de `interact`, `interactive`, y `interact_manual`, `interactive_output` no genera una interfaz de usuario para los objetos. Esto es muy potente ya que permite crear un pbjeto, ponerlo en una caja, pasar el objeto a `interactive_output`, y mantener el control sobre el objeto y su disposición en pantalla. el siguiente código muestra como poner controles deslizantes lado a lado:"
      ]
    },
    {
      "cell_type": "code",
      "metadata": {
        "id": "ShBPKmeLPEDB",
        "colab": {
          "base_uri": "https://localhost:8080/",
          "referenced_widgets": [
            "3a8e736feafc429080b8cd84b96851b3",
            "110302e2e61846bea3daa7f0c200fedb",
            "eb352073bccc4cbea2b393498b779fd5",
            "b0082eda30d7499b97931c18fc89fec5",
            "0c03fd4a97c640daa239b622a0dfb31d",
            "fd6a2754b13f465e8caf7d77b03955b5",
            "923333a77827408bab61d152c430dfd3",
            "3f73555dd16a4fb393dbb7d038bf8b51",
            "4dedc90d9ed849729d8afc8a09ebb1b0",
            "c43ab707c1c94e69a6ce2d15199f7d2d",
            "bc1858547ecc49728b4f79403be4319e",
            "761ae1fba5fb4a66a7f4bf948cd6fa6e",
            "143733a1bb3141d3bd3f248c40195aad"
          ]
        },
        "outputId": "f757d169-956c-43d9-ea72-06d70c1496ed"
      },
      "source": [
        "a = widgets.IntSlider()\n",
        "b = widgets.IntSlider()\n",
        "c = widgets.IntSlider()\n",
        "ui = widgets.HBox([a, b, c])\n",
        "def f(a, b, c):\n",
        "    print((a, b, c))\n",
        "\n",
        "out = widgets.interactive_output(f, {'a': a, 'b': b, 'c': c})\n",
        "\n",
        "display(ui, out)"
      ],
      "execution_count": null,
      "outputs": [
        {
          "output_type": "display_data",
          "data": {
            "application/vnd.jupyter.widget-view+json": {
              "model_id": "3a8e736feafc429080b8cd84b96851b3",
              "version_minor": 0,
              "version_major": 2
            },
            "text/plain": [
              "HBox(children=(IntSlider(value=0), IntSlider(value=0), IntSlider(value=0)))"
            ]
          },
          "metadata": {}
        },
        {
          "output_type": "display_data",
          "data": {
            "application/vnd.jupyter.widget-view+json": {
              "model_id": "761ae1fba5fb4a66a7f4bf948cd6fa6e",
              "version_minor": 0,
              "version_major": 2
            },
            "text/plain": [
              "Output()"
            ]
          },
          "metadata": {}
        }
      ]
    },
    {
      "cell_type": "markdown",
      "metadata": {
        "id": "32T6AorGPEDT"
      },
      "source": [
        "## Argumentos que son mutuamente dependientes"
      ]
    },
    {
      "cell_type": "markdown",
      "metadata": {
        "id": "1y1gc6VBPEDV"
      },
      "source": [
        "Los argumentos que son dependientes entre si se pueden expresar manualmente usando `observe`. \n",
        "\n",
        "En el siguiente ejemplo, una variable se utiliza para describir los limites de la otra. Para mas información vea el [cuaderno de ejemplo de eventos de widgets ](./Widget%20Events.ipynb)."
      ]
    },
    {
      "cell_type": "code",
      "metadata": {
        "id": "dol8J04OPEDY",
        "colab": {
          "base_uri": "https://localhost:8080/",
          "referenced_widgets": [
            "67720d789ca3490fbf54309355f53ea4",
            "81ce910032554f7aa4b76c349e9c480c",
            "0bce084536244ad48dbf0e65df2ceeda",
            "aecf821d74b44e129997589e4fcd7b0b",
            "4cccd7580eac43bab46d4c443d73fbd6",
            "83c10d80ee3045cc9508d7b31ff3408e",
            "cf60228a1e69467e907cc2eb40847283",
            "860c14f219fe48b1997b098091d89da6",
            "b1f7eeb4e3444ae88946509089807a38",
            "86cbcfc2352941adba28efe9c46a4fc3"
          ]
        },
        "outputId": "a280530a-f22c-49fe-f594-8f2fcc558dbb"
      },
      "source": [
        "x_widget = FloatSlider(min=0.0, max=10.0, step=0.05)\n",
        "y_widget = FloatSlider(min=0.5, max=10.0, step=0.05, value=5.0)\n",
        "\n",
        "def update_x_range(*args):\n",
        "    x_widget.max = 2.0 * y_widget.value\n",
        "y_widget.observe(update_x_range, 'value')\n",
        "\n",
        "def printer(x, y):\n",
        "    print(x, y)\n",
        "interact(printer,x=x_widget, y=y_widget);"
      ],
      "execution_count": null,
      "outputs": [
        {
          "output_type": "display_data",
          "data": {
            "application/vnd.jupyter.widget-view+json": {
              "model_id": "67720d789ca3490fbf54309355f53ea4",
              "version_minor": 0,
              "version_major": 2
            },
            "text/plain": [
              "interactive(children=(FloatSlider(value=0.0, description='x', max=10.0, step=0.05), FloatSlider(value=5.0, des…"
            ]
          },
          "metadata": {}
        }
      ]
    },
    {
      "cell_type": "markdown",
      "metadata": {
        "id": "B_zTTrtZPEDx"
      },
      "source": [
        "## Parpadeos y saltos en la salida\n",
        "\n",
        "En ocasiones, se puede notar que la salida interactiva parpadea y salta, causando que la posición de desplazamiento del cuaderno cambie a medida que la salida se actualiza. El control interactivo tiene una disposición, por lo que podemos ajustar su altura a un valor apropiado (elegido manualmente) para que no cambie de tamaño a medida que se actualiza.\n"
      ]
    },
    {
      "cell_type": "code",
      "metadata": {
        "id": "PbaH3N4gPEDy",
        "colab": {
          "base_uri": "https://localhost:8080/",
          "referenced_widgets": [
            "02a966685a8a49f2996a51ecb5cfb8f0",
            "5013128443464c9299a40d7a44e0e294",
            "2c0ce0170ced41bd9368b5c62edfd213",
            "c608547e5ef74e11b09f463f6787ec3d",
            "5580489d24fc484c993a86ab9e4f71b6",
            "8928d6b2643e4145be44c05c45a51291",
            "da9a41c2537c4c7b974fd9c7b768aba5",
            "dfc6d74a9cd945c88f7bacf3e07aeac4",
            "c6a14da73d584355ac1685313834c73c",
            "84e1d7a02c0c470fb74d69ebd629ad3c"
          ]
        },
        "outputId": "b47b45ed-060c-4dcc-fcfb-ae5f2990e777"
      },
      "source": [
        "%matplotlib inline\n",
        "from ipywidgets import interactive\n",
        "import matplotlib.pyplot as plt\n",
        "import numpy as np\n",
        "\n",
        "def f(m, b):\n",
        "    plt.figure(2)\n",
        "    x = np.linspace(-10, 10, num=1000)\n",
        "    plt.plot(x, m * x + b)\n",
        "    plt.ylim(-5, 5)\n",
        "    plt.show()\n",
        "\n",
        "interactive_plot = interactive(f, m=(-2.0, 2.0), b=(-3, 3, 0.5))\n",
        "output = interactive_plot.children[-1]\n",
        "output.layout.height = '350px'\n",
        "interactive_plot"
      ],
      "execution_count": null,
      "outputs": [
        {
          "output_type": "display_data",
          "data": {
            "application/vnd.jupyter.widget-view+json": {
              "model_id": "02a966685a8a49f2996a51ecb5cfb8f0",
              "version_minor": 0,
              "version_major": 2
            },
            "text/plain": [
              "interactive(children=(FloatSlider(value=0.0, description='m', max=2.0, min=-2.0), FloatSlider(value=0.0, descr…"
            ]
          },
          "metadata": {}
        }
      ]
    },
    {
      "cell_type": "markdown",
      "metadata": {
        "id": "6xbKfkIzk2Wv"
      },
      "source": [
        "# **Actividad:** Generar una sinusoidal interactiva\n",
        "\n",
        "Generar un gráfico de una señal sinusoidal en el dominio del tiempo y de la frecuencia, a la que se le pueda modificar en forma interactiva su amplitud $A$, frecuencia $f$ y fase $\\phi$"
      ]
    },
    {
      "cell_type": "code",
      "metadata": {
        "id": "-l5PxkCo0lP0"
      },
      "source": [
        "from __future__ import print_function\n",
        "from ipywidgets import interact, interactive, fixed, interact_manual\n",
        "import ipywidgets as widgets"
      ],
      "execution_count": null,
      "outputs": []
    },
    {
      "cell_type": "code",
      "metadata": {
        "id": "H7SL1774PED-",
        "colab": {
          "base_uri": "https://localhost:8080/",
          "referenced_widgets": [
            "7fbebabcf62a464f9408b6ba3077c90a"
          ]
        },
        "outputId": "075b44da-52a8-4f14-e54f-3edc73c5297c"
      },
      "source": [
        "# %matplotlib inline\n",
        "from ipywidgets import interactive\n",
        "import matplotlib.pyplot as plt\n",
        "import numpy as np\n",
        "\n",
        "def sinusoide(fs, A, f, phi):\n",
        "    #definición de la sinusoide\n",
        "    tmax = 1\n",
        "    t = np.arange(0, tmax, step=1. / fs)\n",
        "    s = A*np.sin(2 * np.pi * f * t + phi)\n",
        "    #graficado\n",
        "    plt.figure(2,figsize=(12,4), dpi=100)\n",
        "    plt.subplot(1,2,1)\n",
        "    graft(s,fs,[0,.1])\n",
        "    plt.subplot(1,2,2)\n",
        "    graff1l(s,fs)\n",
        "    plt.show()\n",
        "\n",
        "interactive_plot = interactive(sinusoide, fs=[500,1000,2000,4000], A=(-2.0, 2.0), f=(50, 2000, 50), phi=(-np.pi,np.pi))\n",
        "output = interactive_plot.children[-1]\n",
        "output.layout.widt = '1600px'\n",
        "interactive_plot"
      ],
      "execution_count": null,
      "outputs": [
        {
          "output_type": "display_data",
          "data": {
            "application/vnd.jupyter.widget-view+json": {
              "model_id": "7fbebabcf62a464f9408b6ba3077c90a",
              "version_minor": 0,
              "version_major": 2
            },
            "text/plain": [
              "interactive(children=(Dropdown(description='fs', options=(500, 1000, 2000, 4000), value=500), FloatSlider(valu…"
            ]
          },
          "metadata": {}
        }
      ]
    }
  ]
}